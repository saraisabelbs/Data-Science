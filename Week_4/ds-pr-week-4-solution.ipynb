{
 "cells": [
  {
   "cell_type": "markdown",
   "id": "efdc3720",
   "metadata": {},
   "source": [
    "# Practical Session of Week 4 - Review + Correlation between Variables\n",
    "This notebook contains the exercises and concepts of **Data Science Practice discipline**.  \n",
    "Throughout the notebook, we will:\n",
    "\n",
    "- Review key concepts of quantitative features in rectangular data.\n",
    "- Solve guided examples and exercises to consolidate learning.\n",
    "\n",
    "The purpose of this notebook is to consolidate knowledge previously discussed and deepen the EDA techniques through knowledge of associations/correlations between variables.\n",
    "\n",
    "# Part 1: Review\n",
    "In this section, we will explore fundamental concepts of quantitative features in rectangular data.\n",
    "\n",
    "- Central Tendency: Mean, Median, Mode\n",
    "- Dispersion: Range, IQR, Variance, STD\n",
    "- Frequency Tables and Categorical Feature Summaries\n",
    "- Notion of A Distribution\n",
    "- Population vs Sample\n",
    "\n",
    "# Part 2: Linear Correlations\n",
    "- Correlation between variables\n",
    "- Dispersion charts"
   ]
  },
  {
   "cell_type": "markdown",
   "id": "fe89d54c",
   "metadata": {},
   "source": [
    "Importing Libraries"
   ]
  },
  {
   "cell_type": "code",
   "execution_count": 1,
   "id": "431ac6fa0b81f35e",
   "metadata": {
    "ExecuteTime": {
     "end_time": "2025-09-25T11:09:07.932334Z",
     "start_time": "2025-09-25T11:09:07.172509Z"
    }
   },
   "outputs": [],
   "source": [
    "import pandas as pd\n",
    "import numpy as np\n",
    "import matplotlib.pyplot as plt"
   ]
  },
  {
   "cell_type": "markdown",
   "id": "7fc99c982a5d3b58",
   "metadata": {},
   "source": [
    "## Part 1 - Review for the next week test"
   ]
  },
  {
   "cell_type": "markdown",
   "id": "bdfc9ee7adcd5d70",
   "metadata": {},
   "source": [
    "### Exercise 1\n",
    "Create a DataFrame called `df_notas` with 50 rows, containing a `grade` column with random integer values **between 0 and 20**."
   ]
  },
  {
   "cell_type": "code",
   "execution_count": 2,
   "id": "initial_id",
   "metadata": {
    "ExecuteTime": {
     "end_time": "2025-09-25T11:09:38.703352Z",
     "start_time": "2025-09-25T11:09:38.671175Z"
    },
    "collapsed": true
   },
   "outputs": [
    {
     "data": {
      "text/html": [
       "<div>\n",
       "<style scoped>\n",
       "    .dataframe tbody tr th:only-of-type {\n",
       "        vertical-align: middle;\n",
       "    }\n",
       "\n",
       "    .dataframe tbody tr th {\n",
       "        vertical-align: top;\n",
       "    }\n",
       "\n",
       "    .dataframe thead th {\n",
       "        text-align: right;\n",
       "    }\n",
       "</style>\n",
       "<table border=\"1\" class=\"dataframe\">\n",
       "  <thead>\n",
       "    <tr style=\"text-align: right;\">\n",
       "      <th></th>\n",
       "      <th>grades</th>\n",
       "    </tr>\n",
       "  </thead>\n",
       "  <tbody>\n",
       "    <tr>\n",
       "      <th>0</th>\n",
       "      <td>6</td>\n",
       "    </tr>\n",
       "    <tr>\n",
       "      <th>1</th>\n",
       "      <td>19</td>\n",
       "    </tr>\n",
       "    <tr>\n",
       "      <th>2</th>\n",
       "      <td>14</td>\n",
       "    </tr>\n",
       "    <tr>\n",
       "      <th>3</th>\n",
       "      <td>10</td>\n",
       "    </tr>\n",
       "    <tr>\n",
       "      <th>4</th>\n",
       "      <td>7</td>\n",
       "    </tr>\n",
       "  </tbody>\n",
       "</table>\n",
       "</div>"
      ],
      "text/plain": [
       "   grades\n",
       "0       6\n",
       "1      19\n",
       "2      14\n",
       "3      10\n",
       "4       7"
      ]
     },
     "execution_count": 2,
     "metadata": {},
     "output_type": "execute_result"
    }
   ],
   "source": [
    "np.random.seed(42)\n",
    "df_notas = pd.DataFrame({'grades': np.random.randint(0, 21, 50)})\n",
    "df_notas.head()"
   ]
  },
  {
   "cell_type": "markdown",
   "id": "1d0879714886b751",
   "metadata": {},
   "source": [
    "### Exercise 2\n",
    "Add to DataFrame `df_notas` A column called `status` that classifies each student as `Pass` if the **grade is > = 10** or `Fail` otherwise. Try to do this without using loops with `np.where`."
   ]
  },
  {
   "cell_type": "code",
   "execution_count": 3,
   "id": "8064e1a0f21dc5ff",
   "metadata": {
    "ExecuteTime": {
     "end_time": "2025-09-25T11:10:16.245286Z",
     "start_time": "2025-09-25T11:10:16.229495Z"
    }
   },
   "outputs": [
    {
     "data": {
      "text/html": [
       "<div>\n",
       "<style scoped>\n",
       "    .dataframe tbody tr th:only-of-type {\n",
       "        vertical-align: middle;\n",
       "    }\n",
       "\n",
       "    .dataframe tbody tr th {\n",
       "        vertical-align: top;\n",
       "    }\n",
       "\n",
       "    .dataframe thead th {\n",
       "        text-align: right;\n",
       "    }\n",
       "</style>\n",
       "<table border=\"1\" class=\"dataframe\">\n",
       "  <thead>\n",
       "    <tr style=\"text-align: right;\">\n",
       "      <th></th>\n",
       "      <th>grades</th>\n",
       "      <th>status</th>\n",
       "    </tr>\n",
       "  </thead>\n",
       "  <tbody>\n",
       "    <tr>\n",
       "      <th>0</th>\n",
       "      <td>6</td>\n",
       "      <td>Fail</td>\n",
       "    </tr>\n",
       "    <tr>\n",
       "      <th>1</th>\n",
       "      <td>19</td>\n",
       "      <td>Pass</td>\n",
       "    </tr>\n",
       "    <tr>\n",
       "      <th>2</th>\n",
       "      <td>14</td>\n",
       "      <td>Pass</td>\n",
       "    </tr>\n",
       "    <tr>\n",
       "      <th>3</th>\n",
       "      <td>10</td>\n",
       "      <td>Pass</td>\n",
       "    </tr>\n",
       "    <tr>\n",
       "      <th>4</th>\n",
       "      <td>7</td>\n",
       "      <td>Fail</td>\n",
       "    </tr>\n",
       "  </tbody>\n",
       "</table>\n",
       "</div>"
      ],
      "text/plain": [
       "   grades status\n",
       "0       6   Fail\n",
       "1      19   Pass\n",
       "2      14   Pass\n",
       "3      10   Pass\n",
       "4       7   Fail"
      ]
     },
     "execution_count": 3,
     "metadata": {},
     "output_type": "execute_result"
    }
   ],
   "source": [
    "# add status column\n",
    "df_notas['status'] = np.where(df_notas['grades'] >= 10, 'Pass', 'Fail')\n",
    "df_notas.head()"
   ]
  },
  {
   "cell_type": "code",
   "execution_count": 5,
   "id": "93034bfb",
   "metadata": {},
   "outputs": [
    {
     "data": {
      "text/plain": [
       "status\n",
       "Pass    29\n",
       "Fail    21\n",
       "Name: count, dtype: int64"
      ]
     },
     "execution_count": 5,
     "metadata": {},
     "output_type": "execute_result"
    }
   ],
   "source": [
    "df_notas['status'].value_counts()"
   ]
  },
  {
   "cell_type": "code",
   "execution_count": 4,
   "id": "6674fc7c",
   "metadata": {},
   "outputs": [
    {
     "data": {
      "text/plain": [
       "<Axes: xlabel='status'>"
      ]
     },
     "execution_count": 4,
     "metadata": {},
     "output_type": "execute_result"
    },
    {
     "data": {
      "image/png": "[encoded data removed]",
      "text/plain": [
       "<Figure size 640x480 with 1 Axes>"
      ]
     },
     "metadata": {},
     "output_type": "display_data"
    }
   ],
   "source": [
    "df_notas['status'].value_counts().plot(kind='bar')"
   ]
  },
  {
   "cell_type": "markdown",
   "id": "851935f14a7f17a1",
   "metadata": {},
   "source": [
    "### Exercise 3\n",
    "Calculate the average, median and quartis (q1, q2, q3) of the grades."
   ]
  },
  {
   "cell_type": "code",
   "execution_count": 6,
   "id": "925167b2b0652689",
   "metadata": {
    "ExecuteTime": {
     "end_time": "2025-09-25T11:13:19.671063Z",
     "start_time": "2025-09-25T11:13:19.664653Z"
    }
   },
   "outputs": [
    {
     "data": {
      "text/html": [
       "<div>\n",
       "<style scoped>\n",
       "    .dataframe tbody tr th:only-of-type {\n",
       "        vertical-align: middle;\n",
       "    }\n",
       "\n",
       "    .dataframe tbody tr th {\n",
       "        vertical-align: top;\n",
       "    }\n",
       "\n",
       "    .dataframe thead th {\n",
       "        text-align: right;\n",
       "    }\n",
       "</style>\n",
       "<table border=\"1\" class=\"dataframe\">\n",
       "  <thead>\n",
       "    <tr style=\"text-align: right;\">\n",
       "      <th></th>\n",
       "      <th>grades</th>\n",
       "    </tr>\n",
       "  </thead>\n",
       "  <tbody>\n",
       "    <tr>\n",
       "      <th>count</th>\n",
       "      <td>50.000000</td>\n",
       "    </tr>\n",
       "    <tr>\n",
       "      <th>mean</th>\n",
       "      <td>10.960000</td>\n",
       "    </tr>\n",
       "    <tr>\n",
       "      <th>std</th>\n",
       "      <td>6.343758</td>\n",
       "    </tr>\n",
       "    <tr>\n",
       "      <th>min</th>\n",
       "      <td>0.000000</td>\n",
       "    </tr>\n",
       "    <tr>\n",
       "      <th>25%</th>\n",
       "      <td>6.000000</td>\n",
       "    </tr>\n",
       "    <tr>\n",
       "      <th>50%</th>\n",
       "      <td>11.000000</td>\n",
       "    </tr>\n",
       "    <tr>\n",
       "      <th>75%</th>\n",
       "      <td>17.000000</td>\n",
       "    </tr>\n",
       "    <tr>\n",
       "      <th>max</th>\n",
       "      <td>20.000000</td>\n",
       "    </tr>\n",
       "  </tbody>\n",
       "</table>\n",
       "</div>"
      ],
      "text/plain": [
       "          grades\n",
       "count  50.000000\n",
       "mean   10.960000\n",
       "std     6.343758\n",
       "min     0.000000\n",
       "25%     6.000000\n",
       "50%    11.000000\n",
       "75%    17.000000\n",
       "max    20.000000"
      ]
     },
     "execution_count": 6,
     "metadata": {},
     "output_type": "execute_result"
    }
   ],
   "source": [
    "df_notas.describe()"
   ]
  },
  {
   "cell_type": "markdown",
   "id": "eaa047903cc7509",
   "metadata": {},
   "source": [
    "### Exercise 4\n",
    "Create a histogram of grades with 10 bins."
   ]
  },
  {
   "cell_type": "code",
   "execution_count": 9,
   "id": "82e1fbf4345ca242",
   "metadata": {
    "ExecuteTime": {
     "end_time": "2025-09-25T11:13:47.766147Z",
     "start_time": "2025-09-25T11:13:47.672261Z"
    }
   },
   "outputs": [
    {
     "data": {
      "image/png": "[encoded data removed]",
      "text/plain": [
       "<Figure size 640x480 with 1 Axes>"
      ]
     },
     "metadata": {},
     "output_type": "display_data"
    }
   ],
   "source": [
    "df_notas.hist(bins=10)\n",
    "plt.xlabel('Grades')\n",
    "plt.ylabel('Number of Students')\n",
    "plt.title('Distribution of Student Grades')\n",
    "plt.show()"
   ]
  },
  {
   "cell_type": "markdown",
   "id": "299db955671829c",
   "metadata": {},
   "source": [
    "### Exercise 5\n",
    "Create a grades boxplot to analyze the distribution."
   ]
  },
  {
   "cell_type": "code",
   "execution_count": 10,
   "id": "935ca4af188ca206",
   "metadata": {
    "ExecuteTime": {
     "end_time": "2025-09-25T11:14:21.033461Z",
     "start_time": "2025-09-25T11:14:20.971935Z"
    }
   },
   "outputs": [
    {
     "data": {
      "image/png": "[encoded data removed]",
      "text/plain": [
       "<Figure size 640x480 with 1 Axes>"
      ]
     },
     "metadata": {},
     "output_type": "display_data"
    }
   ],
   "source": [
    "# grades boxplot to analyze distribution\n",
    "df_notas.boxplot(column='grades')\n",
    "plt.ylabel('Grades')\n",
    "plt.title('Boxplot of Student Grades')\n",
    "plt.show()"
   ]
  },
  {
   "cell_type": "markdown",
   "id": "f78be4614ddc9e10",
   "metadata": {},
   "source": [
    "### Exercise 6\n",
    "Create a DataFrame `df_salarios` with 100 random salaries between 1200 and 8000."
   ]
  },
  {
   "cell_type": "code",
   "execution_count": 12,
   "id": "7b993a0a2388787a",
   "metadata": {
    "ExecuteTime": {
     "end_time": "2025-09-25T11:15:01.312563Z",
     "start_time": "2025-09-25T11:15:01.293817Z"
    }
   },
   "outputs": [
    {
     "data": {
      "text/html": [
       "<div>\n",
       "<style scoped>\n",
       "    .dataframe tbody tr th:only-of-type {\n",
       "        vertical-align: middle;\n",
       "    }\n",
       "\n",
       "    .dataframe tbody tr th {\n",
       "        vertical-align: top;\n",
       "    }\n",
       "\n",
       "    .dataframe thead th {\n",
       "        text-align: right;\n",
       "    }\n",
       "</style>\n",
       "<table border=\"1\" class=\"dataframe\">\n",
       "  <thead>\n",
       "    <tr style=\"text-align: right;\">\n",
       "      <th></th>\n",
       "      <th>salary</th>\n",
       "    </tr>\n",
       "  </thead>\n",
       "  <tbody>\n",
       "    <tr>\n",
       "      <th>0</th>\n",
       "      <td>2060</td>\n",
       "    </tr>\n",
       "    <tr>\n",
       "      <th>1</th>\n",
       "      <td>6590</td>\n",
       "    </tr>\n",
       "    <tr>\n",
       "      <th>2</th>\n",
       "      <td>6426</td>\n",
       "    </tr>\n",
       "    <tr>\n",
       "      <th>3</th>\n",
       "      <td>6391</td>\n",
       "    </tr>\n",
       "    <tr>\n",
       "      <th>4</th>\n",
       "      <td>4972</td>\n",
       "    </tr>\n",
       "  </tbody>\n",
       "</table>\n",
       "</div>"
      ],
      "text/plain": [
       "   salary\n",
       "0    2060\n",
       "1    6590\n",
       "2    6426\n",
       "3    6391\n",
       "4    4972"
      ]
     },
     "execution_count": 12,
     "metadata": {},
     "output_type": "execute_result"
    }
   ],
   "source": [
    "np.random.seed(42)\n",
    "df_salarios = pd.DataFrame({'salary': np.random.randint(1200, 8001, 100)})\n",
    "df_salarios.head()"
   ]
  },
  {
   "cell_type": "markdown",
   "id": "fa2512bda05376e3",
   "metadata": {},
   "source": [
    "### Exercise 7\n",
    "Add to DataFrame `df_salarios` a `salary_range` column that classifies each salary in:\n",
    "`Low` (<Q1), `Medium` (between Q1 and Q3) and `High` (> Q3)."
   ]
  },
  {
   "cell_type": "code",
   "execution_count": null,
   "id": "865a0a8d",
   "metadata": {},
   "outputs": [
    {
     "data": {
      "text/html": [
       "<div>\n",
       "<style scoped>\n",
       "    .dataframe tbody tr th:only-of-type {\n",
       "        vertical-align: middle;\n",
       "    }\n",
       "\n",
       "    .dataframe tbody tr th {\n",
       "        vertical-align: top;\n",
       "    }\n",
       "\n",
       "    .dataframe thead th {\n",
       "        text-align: right;\n",
       "    }\n",
       "</style>\n",
       "<table border=\"1\" class=\"dataframe\">\n",
       "  <thead>\n",
       "    <tr style=\"text-align: right;\">\n",
       "      <th></th>\n",
       "      <th>salary</th>\n",
       "      <th>salary_level</th>\n",
       "      <th>salary_range</th>\n",
       "    </tr>\n",
       "  </thead>\n",
       "  <tbody>\n",
       "    <tr>\n",
       "      <th>0</th>\n",
       "      <td>2060</td>\n",
       "      <td>Low</td>\n",
       "      <td>Low</td>\n",
       "    </tr>\n",
       "    <tr>\n",
       "      <th>1</th>\n",
       "      <td>6590</td>\n",
       "      <td>High</td>\n",
       "      <td>High</td>\n",
       "    </tr>\n",
       "    <tr>\n",
       "      <th>2</th>\n",
       "      <td>6426</td>\n",
       "      <td>High</td>\n",
       "      <td>High</td>\n",
       "    </tr>\n",
       "    <tr>\n",
       "      <th>3</th>\n",
       "      <td>6391</td>\n",
       "      <td>High</td>\n",
       "      <td>High</td>\n",
       "    </tr>\n",
       "    <tr>\n",
       "      <th>4</th>\n",
       "      <td>4972</td>\n",
       "      <td>Medium</td>\n",
       "      <td>Medium</td>\n",
       "    </tr>\n",
       "    <tr>\n",
       "      <th>...</th>\n",
       "      <td>...</td>\n",
       "      <td>...</td>\n",
       "      <td>...</td>\n",
       "    </tr>\n",
       "    <tr>\n",
       "      <th>95</th>\n",
       "      <td>2216</td>\n",
       "      <td>Low</td>\n",
       "      <td>Low</td>\n",
       "    </tr>\n",
       "    <tr>\n",
       "      <th>96</th>\n",
       "      <td>7639</td>\n",
       "      <td>High</td>\n",
       "      <td>High</td>\n",
       "    </tr>\n",
       "    <tr>\n",
       "      <th>97</th>\n",
       "      <td>1537</td>\n",
       "      <td>Low</td>\n",
       "      <td>Low</td>\n",
       "    </tr>\n",
       "    <tr>\n",
       "      <th>98</th>\n",
       "      <td>2078</td>\n",
       "      <td>Low</td>\n",
       "      <td>Low</td>\n",
       "    </tr>\n",
       "    <tr>\n",
       "      <th>99</th>\n",
       "      <td>2276</td>\n",
       "      <td>Low</td>\n",
       "      <td>Low</td>\n",
       "    </tr>\n",
       "  </tbody>\n",
       "</table>\n",
       "<p>100 rows × 3 columns</p>\n",
       "</div>"
      ],
      "text/plain": [
       "    salary salary_level salary_range\n",
       "0     2060          Low          Low\n",
       "1     6590         High         High\n",
       "2     6426         High         High\n",
       "3     6391         High         High\n",
       "4     4972       Medium       Medium\n",
       "..     ...          ...          ...\n",
       "95    2216          Low          Low\n",
       "96    7639         High         High\n",
       "97    1537          Low          Low\n",
       "98    2078          Low          Low\n",
       "99    2276          Low          Low\n",
       "\n",
       "[100 rows x 3 columns]"
      ]
     },
     "execution_count": 15,
     "metadata": {},
     "output_type": "execute_result"
    }
   ],
   "source": [
    "# Calculate quartiles\n",
    "q1 = df_salarios['salary'].quantile(0.25)\n",
    "q3 = df_salarios['salary'].quantile(0.75)\n",
    "\n",
    "# using loc to classify Salaries according to quartiles intervals\n",
    "df_salarios.loc[df_salarios['salary'] < q1, 'salary_range'] = 'Low'\n",
    "df_salarios.loc[(df_salarios['salary'] >= q1) & (df_salarios['salary'] <= q3), 'salary_range'] = 'Medium'\n",
    "df_salarios.loc[df_salarios['salary'] > q3, 'salary_range'] = 'High'\n",
    "df_salarios"
   ]
  },
  {
   "cell_type": "code",
   "execution_count": 16,
   "id": "7be9442f",
   "metadata": {},
   "outputs": [
    {
     "data": {
      "text/plain": [
       "salary_range\n",
       "Medium    50\n",
       "Low       25\n",
       "High      25\n",
       "Name: count, dtype: int64"
      ]
     },
     "execution_count": 16,
     "metadata": {},
     "output_type": "execute_result"
    }
   ],
   "source": [
    "df_salarios['salary_range'].value_counts()"
   ]
  },
  {
   "cell_type": "markdown",
   "id": "a5101db3",
   "metadata": {},
   "source": [
    "**Alternatively, you can use `pd.cut`**"
   ]
  },
  {
   "cell_type": "code",
   "execution_count": null,
   "id": "3367b0fcf48fa77c",
   "metadata": {
    "ExecuteTime": {
     "end_time": "2025-09-25T11:15:47.149366Z",
     "start_time": "2025-09-25T11:15:47.133143Z"
    }
   },
   "outputs": [
    {
     "data": {
      "text/html": [
       "<div>\n",
       "<style scoped>\n",
       "    .dataframe tbody tr th:only-of-type {\n",
       "        vertical-align: middle;\n",
       "    }\n",
       "\n",
       "    .dataframe tbody tr th {\n",
       "        vertical-align: top;\n",
       "    }\n",
       "\n",
       "    .dataframe thead th {\n",
       "        text-align: right;\n",
       "    }\n",
       "</style>\n",
       "<table border=\"1\" class=\"dataframe\">\n",
       "  <thead>\n",
       "    <tr style=\"text-align: right;\">\n",
       "      <th></th>\n",
       "      <th>salary</th>\n",
       "      <th>salary_level</th>\n",
       "    </tr>\n",
       "  </thead>\n",
       "  <tbody>\n",
       "    <tr>\n",
       "      <th>0</th>\n",
       "      <td>2060</td>\n",
       "      <td>Low</td>\n",
       "    </tr>\n",
       "    <tr>\n",
       "      <th>1</th>\n",
       "      <td>6590</td>\n",
       "      <td>High</td>\n",
       "    </tr>\n",
       "    <tr>\n",
       "      <th>2</th>\n",
       "      <td>6426</td>\n",
       "      <td>High</td>\n",
       "    </tr>\n",
       "    <tr>\n",
       "      <th>3</th>\n",
       "      <td>6391</td>\n",
       "      <td>High</td>\n",
       "    </tr>\n",
       "    <tr>\n",
       "      <th>4</th>\n",
       "      <td>4972</td>\n",
       "      <td>Medium</td>\n",
       "    </tr>\n",
       "    <tr>\n",
       "      <th>...</th>\n",
       "      <td>...</td>\n",
       "      <td>...</td>\n",
       "    </tr>\n",
       "    <tr>\n",
       "      <th>95</th>\n",
       "      <td>2216</td>\n",
       "      <td>Low</td>\n",
       "    </tr>\n",
       "    <tr>\n",
       "      <th>96</th>\n",
       "      <td>7639</td>\n",
       "      <td>High</td>\n",
       "    </tr>\n",
       "    <tr>\n",
       "      <th>97</th>\n",
       "      <td>1537</td>\n",
       "      <td>Low</td>\n",
       "    </tr>\n",
       "    <tr>\n",
       "      <th>98</th>\n",
       "      <td>2078</td>\n",
       "      <td>Low</td>\n",
       "    </tr>\n",
       "    <tr>\n",
       "      <th>99</th>\n",
       "      <td>2276</td>\n",
       "      <td>Low</td>\n",
       "    </tr>\n",
       "  </tbody>\n",
       "</table>\n",
       "<p>100 rows × 2 columns</p>\n",
       "</div>"
      ],
      "text/plain": [
       "    salary salary_level\n",
       "0     2060          Low\n",
       "1     6590         High\n",
       "2     6426         High\n",
       "3     6391         High\n",
       "4     4972       Medium\n",
       "..     ...          ...\n",
       "95    2216          Low\n",
       "96    7639         High\n",
       "97    1537          Low\n",
       "98    2078          Low\n",
       "99    2276          Low\n",
       "\n",
       "[100 rows x 2 columns]"
      ]
     },
     "execution_count": 13,
     "metadata": {},
     "output_type": "execute_result"
    }
   ],
   "source": [
    "# Calculate quartiles\n",
    "q1 = df_salarios['salary'].quantile(0.25)\n",
    "q3 = df_salarios['salary'].quantile(0.75)\n",
    "\n",
    "# pd.cut to classify Salaries\n",
    "df_salarios['salary_range'] = pd.cut(df_salarios['salary'], \n",
    "                                      bins=[0, q1, q3, np.inf], \n",
    "                                      labels=['Low', 'Medium', 'High'])\n",
    "\n",
    "df_salarios\n"
   ]
  },
  {
   "cell_type": "markdown",
   "id": "8b56f1f248774e0b",
   "metadata": {},
   "source": [
    "### Exercise 8\n",
    "Create a histogram and a boxplot of salaries."
   ]
  },
  {
   "cell_type": "code",
   "execution_count": null,
   "id": "f5d59d5ed8c60e21",
   "metadata": {
    "ExecuteTime": {
     "end_time": "2025-09-25T11:16:16.437664Z",
     "start_time": "2025-09-25T11:16:16.308408Z"
    }
   },
   "outputs": [
    {
     "data": {
      "image/png": "[encoded data removed]",
      "text/plain": [
       "<Figure size 640x480 with 1 Axes>"
      ]
     },
     "metadata": {},
     "output_type": "display_data"
    },
    {
     "data": {
      "image/png": "[encoded data removed]",
      "text/plain": [
       "<Figure size 640x480 with 1 Axes>"
      ]
     },
     "metadata": {},
     "output_type": "display_data"
    }
   ],
   "source": []
  },
  {
   "cell_type": "markdown",
   "id": "6dd87bd9dfa6a8cb",
   "metadata": {},
   "source": [
    "### Exercise 9\n",
    "Create two DataFrames: `df_clients` (with `client_id` and `name`) and` df_purchases` (with `client_id` and `value` of purchase). Finally, merge the DataFrames (`pd.merge`)."
   ]
  },
  {
   "cell_type": "code",
   "execution_count": 17,
   "id": "ccad6385a355a600",
   "metadata": {
    "ExecuteTime": {
     "end_time": "2025-09-25T11:22:20.240994Z",
     "start_time": "2025-09-25T11:22:20.217119Z"
    }
   },
   "outputs": [
    {
     "data": {
      "text/html": [
       "<div>\n",
       "<style scoped>\n",
       "    .dataframe tbody tr th:only-of-type {\n",
       "        vertical-align: middle;\n",
       "    }\n",
       "\n",
       "    .dataframe tbody tr th {\n",
       "        vertical-align: top;\n",
       "    }\n",
       "\n",
       "    .dataframe thead th {\n",
       "        text-align: right;\n",
       "    }\n",
       "</style>\n",
       "<table border=\"1\" class=\"dataframe\">\n",
       "  <thead>\n",
       "    <tr style=\"text-align: right;\">\n",
       "      <th></th>\n",
       "      <th>client_id</th>\n",
       "      <th>name</th>\n",
       "      <th>age</th>\n",
       "    </tr>\n",
       "  </thead>\n",
       "  <tbody>\n",
       "    <tr>\n",
       "      <th>0</th>\n",
       "      <td>1</td>\n",
       "      <td>Alice</td>\n",
       "      <td>28</td>\n",
       "    </tr>\n",
       "    <tr>\n",
       "      <th>1</th>\n",
       "      <td>2</td>\n",
       "      <td>Bob</td>\n",
       "      <td>34</td>\n",
       "    </tr>\n",
       "    <tr>\n",
       "      <th>2</th>\n",
       "      <td>3</td>\n",
       "      <td>Charlie</td>\n",
       "      <td>29</td>\n",
       "    </tr>\n",
       "    <tr>\n",
       "      <th>3</th>\n",
       "      <td>4</td>\n",
       "      <td>David</td>\n",
       "      <td>42</td>\n",
       "    </tr>\n",
       "    <tr>\n",
       "      <th>4</th>\n",
       "      <td>5</td>\n",
       "      <td>Eva</td>\n",
       "      <td>23</td>\n",
       "    </tr>\n",
       "  </tbody>\n",
       "</table>\n",
       "</div>"
      ],
      "text/plain": [
       "   client_id     name  age\n",
       "0          1    Alice   28\n",
       "1          2      Bob   34\n",
       "2          3  Charlie   29\n",
       "3          4    David   42\n",
       "4          5      Eva   23"
      ]
     },
     "execution_count": 17,
     "metadata": {},
     "output_type": "execute_result"
    }
   ],
   "source": [
    "df_clients = pd.DataFrame({\n",
    "    'client_id': [1, 2, 3, 4, 5],\n",
    "    'name': ['Alice', 'Bob', 'Charlie', 'David', 'Eva'],\n",
    "    'age': [28, 34, 29, 42, 23]})\n",
    "\n",
    "df_clients"
   ]
  },
  {
   "cell_type": "code",
   "execution_count": 18,
   "id": "8133a176",
   "metadata": {},
   "outputs": [
    {
     "data": {
      "text/html": [
       "<div>\n",
       "<style scoped>\n",
       "    .dataframe tbody tr th:only-of-type {\n",
       "        vertical-align: middle;\n",
       "    }\n",
       "\n",
       "    .dataframe tbody tr th {\n",
       "        vertical-align: top;\n",
       "    }\n",
       "\n",
       "    .dataframe thead th {\n",
       "        text-align: right;\n",
       "    }\n",
       "</style>\n",
       "<table border=\"1\" class=\"dataframe\">\n",
       "  <thead>\n",
       "    <tr style=\"text-align: right;\">\n",
       "      <th></th>\n",
       "      <th>client_id</th>\n",
       "      <th>value</th>\n",
       "    </tr>\n",
       "  </thead>\n",
       "  <tbody>\n",
       "    <tr>\n",
       "      <th>0</th>\n",
       "      <td>1</td>\n",
       "      <td>250</td>\n",
       "    </tr>\n",
       "    <tr>\n",
       "      <th>1</th>\n",
       "      <td>2</td>\n",
       "      <td>450</td>\n",
       "    </tr>\n",
       "    <tr>\n",
       "      <th>2</th>\n",
       "      <td>1</td>\n",
       "      <td>300</td>\n",
       "    </tr>\n",
       "    <tr>\n",
       "      <th>3</th>\n",
       "      <td>3</td>\n",
       "      <td>150</td>\n",
       "    </tr>\n",
       "    <tr>\n",
       "      <th>4</th>\n",
       "      <td>4</td>\n",
       "      <td>500</td>\n",
       "    </tr>\n",
       "    <tr>\n",
       "      <th>5</th>\n",
       "      <td>2</td>\n",
       "      <td>200</td>\n",
       "    </tr>\n",
       "    <tr>\n",
       "      <th>6</th>\n",
       "      <td>5</td>\n",
       "      <td>700</td>\n",
       "    </tr>\n",
       "    <tr>\n",
       "      <th>7</th>\n",
       "      <td>3</td>\n",
       "      <td>100</td>\n",
       "    </tr>\n",
       "  </tbody>\n",
       "</table>\n",
       "</div>"
      ],
      "text/plain": [
       "   client_id  value\n",
       "0          1    250\n",
       "1          2    450\n",
       "2          1    300\n",
       "3          3    150\n",
       "4          4    500\n",
       "5          2    200\n",
       "6          5    700\n",
       "7          3    100"
      ]
     },
     "execution_count": 18,
     "metadata": {},
     "output_type": "execute_result"
    }
   ],
   "source": [
    "df_purchases = pd.DataFrame({\n",
    "    'client_id': [1, 2, 1, 3, 4, 2, 5, 3],\n",
    "    'value': [250, 450, 300, 150, 500, 200, 700, 100]})\n",
    "\n",
    "df_purchases"
   ]
  },
  {
   "cell_type": "code",
   "execution_count": 19,
   "id": "7918e0e7",
   "metadata": {},
   "outputs": [
    {
     "data": {
      "text/html": [
       "<div>\n",
       "<style scoped>\n",
       "    .dataframe tbody tr th:only-of-type {\n",
       "        vertical-align: middle;\n",
       "    }\n",
       "\n",
       "    .dataframe tbody tr th {\n",
       "        vertical-align: top;\n",
       "    }\n",
       "\n",
       "    .dataframe thead th {\n",
       "        text-align: right;\n",
       "    }\n",
       "</style>\n",
       "<table border=\"1\" class=\"dataframe\">\n",
       "  <thead>\n",
       "    <tr style=\"text-align: right;\">\n",
       "      <th></th>\n",
       "      <th>client_id</th>\n",
       "      <th>name</th>\n",
       "      <th>age</th>\n",
       "      <th>value</th>\n",
       "    </tr>\n",
       "  </thead>\n",
       "  <tbody>\n",
       "    <tr>\n",
       "      <th>0</th>\n",
       "      <td>1</td>\n",
       "      <td>Alice</td>\n",
       "      <td>28</td>\n",
       "      <td>250</td>\n",
       "    </tr>\n",
       "    <tr>\n",
       "      <th>1</th>\n",
       "      <td>1</td>\n",
       "      <td>Alice</td>\n",
       "      <td>28</td>\n",
       "      <td>300</td>\n",
       "    </tr>\n",
       "    <tr>\n",
       "      <th>2</th>\n",
       "      <td>2</td>\n",
       "      <td>Bob</td>\n",
       "      <td>34</td>\n",
       "      <td>450</td>\n",
       "    </tr>\n",
       "    <tr>\n",
       "      <th>3</th>\n",
       "      <td>2</td>\n",
       "      <td>Bob</td>\n",
       "      <td>34</td>\n",
       "      <td>200</td>\n",
       "    </tr>\n",
       "    <tr>\n",
       "      <th>4</th>\n",
       "      <td>3</td>\n",
       "      <td>Charlie</td>\n",
       "      <td>29</td>\n",
       "      <td>150</td>\n",
       "    </tr>\n",
       "    <tr>\n",
       "      <th>5</th>\n",
       "      <td>3</td>\n",
       "      <td>Charlie</td>\n",
       "      <td>29</td>\n",
       "      <td>100</td>\n",
       "    </tr>\n",
       "    <tr>\n",
       "      <th>6</th>\n",
       "      <td>4</td>\n",
       "      <td>David</td>\n",
       "      <td>42</td>\n",
       "      <td>500</td>\n",
       "    </tr>\n",
       "    <tr>\n",
       "      <th>7</th>\n",
       "      <td>5</td>\n",
       "      <td>Eva</td>\n",
       "      <td>23</td>\n",
       "      <td>700</td>\n",
       "    </tr>\n",
       "  </tbody>\n",
       "</table>\n",
       "</div>"
      ],
      "text/plain": [
       "   client_id     name  age  value\n",
       "0          1    Alice   28    250\n",
       "1          1    Alice   28    300\n",
       "2          2      Bob   34    450\n",
       "3          2      Bob   34    200\n",
       "4          3  Charlie   29    150\n",
       "5          3  Charlie   29    100\n",
       "6          4    David   42    500\n",
       "7          5      Eva   23    700"
      ]
     },
     "execution_count": 19,
     "metadata": {},
     "output_type": "execute_result"
    }
   ],
   "source": [
    "df_merged = pd.merge(df_clients, df_purchases, on='client_id', how='inner')\n",
    "df_merged"
   ]
  },
  {
   "cell_type": "markdown",
   "id": "23c4ce9d",
   "metadata": {},
   "source": [
    "**Alternatively, you can do like that**"
   ]
  },
  {
   "cell_type": "code",
   "execution_count": 20,
   "id": "51f528d6",
   "metadata": {},
   "outputs": [
    {
     "data": {
      "text/html": [
       "<div>\n",
       "<style scoped>\n",
       "    .dataframe tbody tr th:only-of-type {\n",
       "        vertical-align: middle;\n",
       "    }\n",
       "\n",
       "    .dataframe tbody tr th {\n",
       "        vertical-align: top;\n",
       "    }\n",
       "\n",
       "    .dataframe thead th {\n",
       "        text-align: right;\n",
       "    }\n",
       "</style>\n",
       "<table border=\"1\" class=\"dataframe\">\n",
       "  <thead>\n",
       "    <tr style=\"text-align: right;\">\n",
       "      <th></th>\n",
       "      <th>client_id</th>\n",
       "      <th>name</th>\n",
       "      <th>age</th>\n",
       "      <th>value</th>\n",
       "    </tr>\n",
       "  </thead>\n",
       "  <tbody>\n",
       "    <tr>\n",
       "      <th>0</th>\n",
       "      <td>1</td>\n",
       "      <td>Alice</td>\n",
       "      <td>28</td>\n",
       "      <td>250</td>\n",
       "    </tr>\n",
       "    <tr>\n",
       "      <th>1</th>\n",
       "      <td>1</td>\n",
       "      <td>Alice</td>\n",
       "      <td>28</td>\n",
       "      <td>300</td>\n",
       "    </tr>\n",
       "    <tr>\n",
       "      <th>2</th>\n",
       "      <td>2</td>\n",
       "      <td>Bob</td>\n",
       "      <td>34</td>\n",
       "      <td>450</td>\n",
       "    </tr>\n",
       "    <tr>\n",
       "      <th>3</th>\n",
       "      <td>2</td>\n",
       "      <td>Bob</td>\n",
       "      <td>34</td>\n",
       "      <td>200</td>\n",
       "    </tr>\n",
       "    <tr>\n",
       "      <th>4</th>\n",
       "      <td>3</td>\n",
       "      <td>Charlie</td>\n",
       "      <td>29</td>\n",
       "      <td>150</td>\n",
       "    </tr>\n",
       "    <tr>\n",
       "      <th>5</th>\n",
       "      <td>3</td>\n",
       "      <td>Charlie</td>\n",
       "      <td>29</td>\n",
       "      <td>100</td>\n",
       "    </tr>\n",
       "    <tr>\n",
       "      <th>6</th>\n",
       "      <td>4</td>\n",
       "      <td>David</td>\n",
       "      <td>42</td>\n",
       "      <td>500</td>\n",
       "    </tr>\n",
       "    <tr>\n",
       "      <th>7</th>\n",
       "      <td>5</td>\n",
       "      <td>Eva</td>\n",
       "      <td>23</td>\n",
       "      <td>700</td>\n",
       "    </tr>\n",
       "  </tbody>\n",
       "</table>\n",
       "</div>"
      ],
      "text/plain": [
       "   client_id     name  age  value\n",
       "0          1    Alice   28    250\n",
       "1          1    Alice   28    300\n",
       "2          2      Bob   34    450\n",
       "3          2      Bob   34    200\n",
       "4          3  Charlie   29    150\n",
       "5          3  Charlie   29    100\n",
       "6          4    David   42    500\n",
       "7          5      Eva   23    700"
      ]
     },
     "execution_count": 20,
     "metadata": {},
     "output_type": "execute_result"
    }
   ],
   "source": [
    "df_merged = df_clients.merge(df_purchases, on='client_id', how='inner')\n",
    "df_merged"
   ]
  },
  {
   "cell_type": "markdown",
   "id": "d82f151642dc1474",
   "metadata": {},
   "source": [
    "### Exercise 10\n",
    "In the resulting DataFrame of the merge, create a new column called `with_discount` Apply **10% discount** to the purchase value."
   ]
  },
  {
   "cell_type": "code",
   "execution_count": 26,
   "id": "77d3e2975a7dc6d5",
   "metadata": {
    "ExecuteTime": {
     "end_time": "2025-09-25T11:23:05.796640Z",
     "start_time": "2025-09-25T11:23:05.776841Z"
    }
   },
   "outputs": [
    {
     "data": {
      "text/html": [
       "<div>\n",
       "<style scoped>\n",
       "    .dataframe tbody tr th:only-of-type {\n",
       "        vertical-align: middle;\n",
       "    }\n",
       "\n",
       "    .dataframe tbody tr th {\n",
       "        vertical-align: top;\n",
       "    }\n",
       "\n",
       "    .dataframe thead th {\n",
       "        text-align: right;\n",
       "    }\n",
       "</style>\n",
       "<table border=\"1\" class=\"dataframe\">\n",
       "  <thead>\n",
       "    <tr style=\"text-align: right;\">\n",
       "      <th></th>\n",
       "      <th>client_id</th>\n",
       "      <th>name</th>\n",
       "      <th>age</th>\n",
       "      <th>value</th>\n",
       "      <th>with_discount</th>\n",
       "    </tr>\n",
       "  </thead>\n",
       "  <tbody>\n",
       "    <tr>\n",
       "      <th>0</th>\n",
       "      <td>1</td>\n",
       "      <td>Alice</td>\n",
       "      <td>28</td>\n",
       "      <td>250</td>\n",
       "      <td>225.0</td>\n",
       "    </tr>\n",
       "    <tr>\n",
       "      <th>1</th>\n",
       "      <td>1</td>\n",
       "      <td>Alice</td>\n",
       "      <td>28</td>\n",
       "      <td>300</td>\n",
       "      <td>270.0</td>\n",
       "    </tr>\n",
       "    <tr>\n",
       "      <th>2</th>\n",
       "      <td>2</td>\n",
       "      <td>Bob</td>\n",
       "      <td>34</td>\n",
       "      <td>450</td>\n",
       "      <td>405.0</td>\n",
       "    </tr>\n",
       "    <tr>\n",
       "      <th>3</th>\n",
       "      <td>2</td>\n",
       "      <td>Bob</td>\n",
       "      <td>34</td>\n",
       "      <td>200</td>\n",
       "      <td>180.0</td>\n",
       "    </tr>\n",
       "    <tr>\n",
       "      <th>4</th>\n",
       "      <td>3</td>\n",
       "      <td>Charlie</td>\n",
       "      <td>29</td>\n",
       "      <td>150</td>\n",
       "      <td>135.0</td>\n",
       "    </tr>\n",
       "    <tr>\n",
       "      <th>5</th>\n",
       "      <td>3</td>\n",
       "      <td>Charlie</td>\n",
       "      <td>29</td>\n",
       "      <td>100</td>\n",
       "      <td>90.0</td>\n",
       "    </tr>\n",
       "    <tr>\n",
       "      <th>6</th>\n",
       "      <td>4</td>\n",
       "      <td>David</td>\n",
       "      <td>42</td>\n",
       "      <td>500</td>\n",
       "      <td>450.0</td>\n",
       "    </tr>\n",
       "    <tr>\n",
       "      <th>7</th>\n",
       "      <td>5</td>\n",
       "      <td>Eva</td>\n",
       "      <td>23</td>\n",
       "      <td>700</td>\n",
       "      <td>630.0</td>\n",
       "    </tr>\n",
       "  </tbody>\n",
       "</table>\n",
       "</div>"
      ],
      "text/plain": [
       "   client_id     name  age  value  with_discount\n",
       "0          1    Alice   28    250          225.0\n",
       "1          1    Alice   28    300          270.0\n",
       "2          2      Bob   34    450          405.0\n",
       "3          2      Bob   34    200          180.0\n",
       "4          3  Charlie   29    150          135.0\n",
       "5          3  Charlie   29    100           90.0\n",
       "6          4    David   42    500          450.0\n",
       "7          5      Eva   23    700          630.0"
      ]
     },
     "execution_count": 26,
     "metadata": {},
     "output_type": "execute_result"
    }
   ],
   "source": [
    "df_merged['with_discount'] = df_merged['value'] * 0.9\n",
    "df_merged"
   ]
  },
  {
   "cell_type": "markdown",
   "id": "e782ca69dcdda5c4",
   "metadata": {},
   "source": [
    "## Part 2 - Linear Correlations"
   ]
  },
  {
   "cell_type": "code",
   "execution_count": null,
   "id": "b15e3229",
   "metadata": {},
   "outputs": [
    {
     "name": "stdout",
     "output_type": "stream",
     "text": [
      "Collecting scipy\n",
      "  Downloading scipy-1.16.2-cp313-cp313-macosx_14_0_arm64.whl.metadata (62 kB)\n",
      "Requirement already satisfied: numpy<2.6,>=1.25.2 in /Users/tg/.pyenv/versions/3.13.2/lib/python3.13/site-packages (from scipy) (2.2.6)\n",
      "Downloading scipy-1.16.2-cp313-cp313-macosx_14_0_arm64.whl (20.9 MB)\n",
      "\u001b[2K   \u001b[90m━━━━━━━━━━━━━━━━━━━━━━━━━━━━━━━━━━━━━━━━\u001b[0m \u001b[32m20.9/20.9 MB\u001b[0m \u001b[31m14.8 MB/s\u001b[0m  \u001b[33m0:00:01\u001b[0m eta \u001b[36m0:00:01\u001b[0m\n",
      "\u001b[?25hInstalling collected packages: scipy\n",
      "Successfully installed scipy-1.16.2\n"
     ]
    }
   ],
   "source": [
    "# install scipy if it is not installed already\n",
    "!pip install scipy"
   ]
  },
  {
   "cell_type": "code",
   "execution_count": 29,
   "id": "84bbfb1daa99d09d",
   "metadata": {
    "ExecuteTime": {
     "end_time": "2025-09-25T11:32:35.556487Z",
     "start_time": "2025-09-25T11:32:21.208348Z"
    }
   },
   "outputs": [],
   "source": [
    "import pandas as pd\n",
    "import numpy as np\n",
    "import matplotlib.pyplot as plt\n",
    "import seaborn as sns\n",
    "from scipy import stats"
   ]
  },
  {
   "cell_type": "markdown",
   "id": "2694ae0d36e59d87",
   "metadata": {},
   "source": [
    "### Exercise 1\n",
    "Create two x and y vectors with 100 data points (`y = 2x + noise`). Scatter plot the data."
   ]
  },
  {
   "cell_type": "code",
   "execution_count": 30,
   "id": "de3449cc344ad975",
   "metadata": {
    "ExecuteTime": {
     "end_time": "2025-09-25T11:32:39.840114Z",
     "start_time": "2025-09-25T11:32:39.757119Z"
    }
   },
   "outputs": [
    {
     "data": {
      "image/png": "[encoded data removed]",
      "text/plain": [
       "<Figure size 640x480 with 1 Axes>"
      ]
     },
     "metadata": {},
     "output_type": "display_data"
    }
   ],
   "source": [
    "x = np.linspace(0, 50, 100)\n",
    "y = 2*x + np.random.normal(0, 10, 100)\n",
    "plt.scatter(x, y)\n",
    "plt.title(\"Exercício 1 - Scatter Plot\")\n",
    "plt.show()"
   ]
  },
  {
   "cell_type": "markdown",
   "id": "fa5665b41c9d44e3",
   "metadata": {},
   "source": [
    "### Exercise 2\n",
    "Use seaborn.Pairplot to view relationships between 4 random variables."
   ]
  },
  {
   "cell_type": "code",
   "execution_count": 31,
   "id": "b8e90c05da0bd0a9",
   "metadata": {
    "ExecuteTime": {
     "end_time": "2025-09-25T11:36:28.584518Z",
     "start_time": "2025-09-25T11:36:27.178210Z"
    }
   },
   "outputs": [
    {
     "data": {
      "text/plain": [
       "<seaborn.axisgrid.PairGrid at 0x128251160>"
      ]
     },
     "execution_count": 31,
     "metadata": {},
     "output_type": "execute_result"
    },
    {
     "data": {
      "image/png": "[encoded data removed]",
      "text/plain": [
       "<Figure size 1000x1000 with 20 Axes>"
      ]
     },
     "metadata": {},
     "output_type": "display_data"
    }
   ],
   "source": [
    "df = pd.DataFrame(np.random.randn(100, 4), columns=list(\"ABCD\"))\n",
    "# Create A Linear Relation Between A And B\n",
    "df[\"B\"] = df[\"A\"] * 2 + np.random.normal(0, 0.5, 100)\n",
    "# Create Linear Relation Between C and D\n",
    "df[\"D\"] = df[\"C\"] * -3 + np.random.normal(0, 0.5, 100)\n",
    "sns.pairplot(df)"
   ]
  },
  {
   "cell_type": "markdown",
   "id": "91fc9639f5b1a6f3",
   "metadata": {},
   "source": [
    "### Exercise 3\n",
    "Generate a linear association (`y = 3x + noise`) and **scatter plott with trend line**."
   ]
  },
  {
   "cell_type": "code",
   "execution_count": 32,
   "id": "1768cd8ef3e6cd3",
   "metadata": {
    "ExecuteTime": {
     "end_time": "2025-09-25T11:37:04.230492Z",
     "start_time": "2025-09-25T11:37:04.134834Z"
    }
   },
   "outputs": [
    {
     "data": {
      "image/png": "[encoded data removed]",
      "text/plain": [
       "<Figure size 640x480 with 1 Axes>"
      ]
     },
     "metadata": {},
     "output_type": "display_data"
    }
   ],
   "source": [
    "x = np.linspace(0, 20, 100)\n",
    "y = 3*x + np.random.normal(0, 5, 100)\n",
    "sns.regplot(x=x, y=y, ci=None)\n",
    "plt.title(\"Exercício 3 - Associação Linear\")\n",
    "plt.show()"
   ]
  },
  {
   "cell_type": "markdown",
   "id": "5af75890bad3caf9",
   "metadata": {},
   "source": [
    "### Exercise 4\n",
    "Generate a nonlinear association (`y = x^2 + noise`) and a scatter plot."
   ]
  },
  {
   "cell_type": "code",
   "execution_count": 33,
   "id": "d1d3e70cee4727f6",
   "metadata": {
    "ExecuteTime": {
     "end_time": "2025-09-25T11:37:29.551297Z",
     "start_time": "2025-09-25T11:37:29.465393Z"
    }
   },
   "outputs": [
    {
     "data": {
      "image/png": "[encoded data removed]",
      "text/plain": [
       "<Figure size 640x480 with 1 Axes>"
      ]
     },
     "metadata": {},
     "output_type": "display_data"
    }
   ],
   "source": [
    "x = np.linspace(-10, 10, 100)\n",
    "y = x**2 + np.random.normal(0, 10, 100)\n",
    "plt.scatter(x, y)\n",
    "plt.title(\"Exercício 4 - Associação Não Linear\")\n",
    "plt.show()"
   ]
  },
  {
   "cell_type": "markdown",
   "id": "a58c833978a1ef58",
   "metadata": {},
   "source": [
    "### Exercise 5\n",
    "Calculate **Pearson's correlation** between x and y of **Exercise 3**. Explain the result."
   ]
  },
  {
   "cell_type": "code",
   "execution_count": 34,
   "id": "2dda503e3a5dfa44",
   "metadata": {
    "ExecuteTime": {
     "end_time": "2025-09-25T11:38:36.150732Z",
     "start_time": "2025-09-25T11:38:36.146965Z"
    }
   },
   "outputs": [
    {
     "name": "stdout",
     "output_type": "stream",
     "text": [
      "PearsonRResult(statistic=np.float64(0.01075767776715314), pvalue=np.float64(0.9154019864542098))\n"
     ]
    }
   ],
   "source": [
    "pearson_corr = stats.pearsonr(x, y)\n",
    "print(pearson_corr)\n",
    "\n"
   ]
  },
  {
   "cell_type": "markdown",
   "id": "713915ccd42812b5",
   "metadata": {},
   "source": [
    "### Exercise 6\n",
    "Calculate the `Spearman Correlation` between X and Y of `Exercise 4`. Explain the result."
   ]
  },
  {
   "cell_type": "code",
   "execution_count": 35,
   "id": "8c006825ebcf8a43",
   "metadata": {
    "ExecuteTime": {
     "end_time": "2025-09-25T11:38:23.342979Z",
     "start_time": "2025-09-25T11:38:23.332295Z"
    }
   },
   "outputs": [
    {
     "data": {
      "text/plain": [
       "SignificanceResult(statistic=np.float64(-0.0016081608160816079), pvalue=np.float64(0.987330580098831))"
      ]
     },
     "execution_count": 35,
     "metadata": {},
     "output_type": "execute_result"
    }
   ],
   "source": [
    "spearman_corr = stats.spearmanr(x, y)\n",
    "spearman_corr\n"
   ]
  },
  {
   "cell_type": "markdown",
   "id": "c83325fe80fe33b5",
   "metadata": {},
   "source": [
    "### Exercise 7\n",
    "Compare **Pearson** and **Spearman** in quadratic data."
   ]
  },
  {
   "cell_type": "code",
   "execution_count": 36,
   "id": "4a8526a75e3d2963",
   "metadata": {
    "ExecuteTime": {
     "end_time": "2025-09-25T11:39:57.185407Z",
     "start_time": "2025-09-25T11:39:57.161687Z"
    }
   },
   "outputs": [
    {
     "data": {
      "text/plain": [
       "(PearsonRResult(statistic=np.float64(-6.938893903907228e-18), pvalue=np.float64(1.0)),\n",
       " SignificanceResult(statistic=np.float64(-0.002646479021386217), pvalue=np.float64(0.9791519704231377)))"
      ]
     },
     "execution_count": 36,
     "metadata": {},
     "output_type": "execute_result"
    }
   ],
   "source": [
    "x = np.linspace(-5, 5, 100)\n",
    "y = x**2\n",
    "pearson = stats.pearsonr(x, y)\n",
    "spearman = stats.spearmanr(x, y)\n",
    "pearson, spearman\n",
    "# Explain The Results\n",
    "# In Quadratic Data, Pearson Correlation may be Low or Zero Because It measures Linear Relationships, While Spearman Correlation Captures The Monotonic Relationship, Resulting in A Higher Value."
   ]
  },
  {
   "cell_type": "markdown",
   "id": "b92f3aed1031286e",
   "metadata": {},
   "source": [
    "### Exercise 8\n",
    "Simulate data with **weak correlation (high noise)**. Show scatter plot."
   ]
  },
  {
   "cell_type": "code",
   "execution_count": 37,
   "id": "c8ba4fc713102fca",
   "metadata": {
    "ExecuteTime": {
     "end_time": "2025-09-25T11:40:34.428774Z",
     "start_time": "2025-09-25T11:40:34.330508Z"
    }
   },
   "outputs": [
    {
     "data": {
      "image/png": "[encoded data removed]",
      "text/plain": [
       "<Figure size 640x480 with 1 Axes>"
      ]
     },
     "metadata": {},
     "output_type": "display_data"
    }
   ],
   "source": [
    "x = np.linspace(0, 50, 100)\n",
    "y = 0.5*x + np.random.normal(0, 30, 100)\n",
    "plt.scatter(x, y)\n",
    "plt.title(\"Exercício 8 - Correlação Fraca\")\n",
    "plt.show()"
   ]
  },
  {
   "cell_type": "markdown",
   "id": "bc8c8c9703726790",
   "metadata": {},
   "source": [
    "### Exercise 9\n",
    "Simulate data with **moderate correlation**."
   ]
  },
  {
   "cell_type": "code",
   "execution_count": 38,
   "id": "5fb1006782e184b6",
   "metadata": {
    "ExecuteTime": {
     "end_time": "2025-09-25T11:41:20.781235Z",
     "start_time": "2025-09-25T11:41:20.700219Z"
    }
   },
   "outputs": [
    {
     "data": {
      "image/png": "[encoded data removed]",
      "text/plain": [
       "<Figure size 640x480 with 1 Axes>"
      ]
     },
     "metadata": {},
     "output_type": "display_data"
    }
   ],
   "source": [
    "x = np.linspace(0, 50, 100)\n",
    "y = 0.5*x + np.random.normal(0, 10, 100)\n",
    "plt.scatter(x, y)\n",
    "plt.title(\"Exercício 9 - Correlação Moderada\")\n",
    "plt.show()"
   ]
  },
  {
   "cell_type": "markdown",
   "id": "9e62d9adf3f64e64",
   "metadata": {},
   "source": [
    "### Exercise 10\n",
    "Simulate data with **strong correlation**."
   ]
  },
  {
   "cell_type": "code",
   "execution_count": 39,
   "id": "c71005629e8c4e03",
   "metadata": {
    "ExecuteTime": {
     "end_time": "2025-09-25T11:42:02.843628Z",
     "start_time": "2025-09-25T11:42:02.762312Z"
    }
   },
   "outputs": [
    {
     "data": {
      "text/plain": [
       "<matplotlib.collections.PathCollection at 0x12981da90>"
      ]
     },
     "execution_count": 39,
     "metadata": {},
     "output_type": "execute_result"
    },
    {
     "data": {
      "image/png": "[encoded data removed]",
      "text/plain": [
       "<Figure size 640x480 with 1 Axes>"
      ]
     },
     "metadata": {},
     "output_type": "display_data"
    }
   ],
   "source": [
    "x = np.linspace(0, 50, 100)\n",
    "y = 0.5*x + np.random.normal(0, 2, 100)\n",
    "plt.scatter(x, y)"
   ]
  },
  {
   "cell_type": "markdown",
   "id": "2d31d61d1c60f94d",
   "metadata": {},
   "source": [
    "### Exercise 11\n",
    "Test significance of **Pearson's correlation** in data with 20 data points."
   ]
  },
  {
   "cell_type": "code",
   "execution_count": 40,
   "id": "7c6acf44dd20093d",
   "metadata": {
    "ExecuteTime": {
     "end_time": "2025-09-25T11:43:31.487423Z",
     "start_time": "2025-09-25T11:43:31.472502Z"
    }
   },
   "outputs": [
    {
     "data": {
      "text/plain": [
       "PearsonRResult(statistic=np.float64(0.6608581225382373), pvalue=np.float64(0.001512948327507025))"
      ]
     },
     "execution_count": 40,
     "metadata": {},
     "output_type": "execute_result"
    }
   ],
   "source": [
    "x = np.linspace(0, 10, 20)\n",
    "y = 2*x + np.random.normal(0, 5, 20)\n",
    "stats.pearsonr(x, y)"
   ]
  },
  {
   "cell_type": "markdown",
   "id": "4b79c827b928e776",
   "metadata": {},
   "source": [
    "### Exercise 12\n",
    "Test significance of **Pearson's correlation** in data with 200 data points."
   ]
  },
  {
   "cell_type": "code",
   "execution_count": 41,
   "id": "4423eb5fc0399d95",
   "metadata": {
    "ExecuteTime": {
     "end_time": "2025-09-25T11:43:59.416517Z",
     "start_time": "2025-09-25T11:43:59.404633Z"
    }
   },
   "outputs": [
    {
     "data": {
      "text/plain": [
       "PearsonRResult(statistic=np.float64(0.15830872170829252), pvalue=np.float64(0.025160599238270267))"
      ]
     },
     "execution_count": 41,
     "metadata": {},
     "output_type": "execute_result"
    }
   ],
   "source": [
    "x = np.linspace(0, 10, 200)\n",
    "y = 0.2*x + np.random.normal(0, 5, 200)\n",
    "stats.pearsonr(x, y)"
   ]
  },
  {
   "cell_type": "markdown",
   "id": "e2ce450dd3e21425",
   "metadata": {},
   "source": [
    "### Exercise 13\n",
    "Create scatter plot with categories."
   ]
  },
  {
   "cell_type": "code",
   "execution_count": 42,
   "id": "65a63db1fccaeea1",
   "metadata": {
    "ExecuteTime": {
     "end_time": "2025-09-25T11:44:20.489990Z",
     "start_time": "2025-09-25T11:44:20.375844Z"
    }
   },
   "outputs": [],
   "source": [
    "df = pd.DataFrame({\n",
    "    \"x\": np.random.randn(100),\n",
    "    \"y\": np.random.randn(100),\n",
    "    \"grupo\": np.random.choice([\"A\", \"B\"], 100)\n",
    "})\n"
   ]
  },
  {
   "cell_type": "markdown",
   "id": "e1bb1501f10687e5",
   "metadata": {},
   "source": [
    "### Exercise 14\n",
    "Show correlation matrix with Seaborn Heatmap."
   ]
  },
  {
   "cell_type": "code",
   "execution_count": 43,
   "id": "322f3a6d11ca6c62",
   "metadata": {
    "ExecuteTime": {
     "end_time": "2025-09-25T11:44:58.722940Z",
     "start_time": "2025-09-25T11:44:58.572354Z"
    }
   },
   "outputs": [],
   "source": [
    "df = pd.DataFrame(np.random.randn(100, 5), columns=list(\"ABCDE\"))\n"
   ]
  },
  {
   "cell_type": "markdown",
   "id": "a49db6a3f278eb6d",
   "metadata": {},
   "source": [
    "### Exercise 15\n",
    "Check non-linear correlation."
   ]
  },
  {
   "cell_type": "code",
   "execution_count": null,
   "id": "18ff1a4bee8938b1",
   "metadata": {
    "ExecuteTime": {
     "end_time": "2025-09-25T11:45:35.073016Z",
     "start_time": "2025-09-25T11:45:35.027701Z"
    }
   },
   "outputs": [
    {
     "data": {
      "text/plain": [
       "(PearsonRResult(statistic=np.float64(-0.07589466694797184), pvalue=np.float64(0.4529607482441908)),\n",
       " SignificanceResult(statistic=np.float64(-0.07504350435043504), pvalue=np.float64(0.45805859611033717)))"
      ]
     },
     "execution_count": 45,
     "metadata": {},
     "output_type": "execute_result"
    }
   ],
   "source": []
  },
  {
   "cell_type": "markdown",
   "id": "ac52517a9bd5fba8",
   "metadata": {},
   "source": [
    "### Exercise 16\n",
    "Based on what we have learned above, analyze the `Auto.csv` dataset and search for interesting correlations."
   ]
  },
  {
   "cell_type": "code",
   "execution_count": null,
   "id": "ed0af74dac3d7965",
   "metadata": {},
   "outputs": [],
   "source": []
  }
 ],
 "metadata": {
  "kernelspec": {
   "display_name": "3.13.2",
   "language": "python",
   "name": "python3"
  },
  "language_info": {
   "codemirror_mode": {
    "name": "ipython",
    "version": 3
   },
   "file_extension": ".py",
   "mimetype": "text/x-python",
   "name": "python",
   "nbconvert_exporter": "python",
   "pygments_lexer": "ipython3",
   "version": "3.13.2"
  }
 },
 "nbformat": 4,
 "nbformat_minor": 5
}
