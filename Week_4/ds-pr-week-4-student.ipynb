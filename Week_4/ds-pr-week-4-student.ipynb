{
 "cells": [
  {
   "cell_type": "markdown",
   "id": "efdc3720",
   "metadata": {},
   "source": [
    "# Practical Session of Week 4 - Review + Correlation between Variables\n",
    "This notebook contains the exercises and concepts of **Data Science Practice discipline**.  \n",
    "Throughout the notebook, we will:\n",
    "\n",
    "- Review key concepts of quantitative features in rectangular data.\n",
    "- Solve guided examples and exercises to consolidate learning.\n",
    "\n",
    "The purpose of this notebook is to consolidate knowledge previously discussed and deepen the EDA techniques through knowledge of associations/correlations between variables.\n",
    "\n",
    "# Part 1: Review\n",
    "In this section, we will explore fundamental concepts of quantitative features in rectangular data.\n",
    "\n",
    "- Central Tendency: Mean, Median, Mode\n",
    "- Dispersion: Range, IQR, Variance, STD\n",
    "- Frequency Tables and Categorical Feature Summaries\n",
    "- Notion of A Distribution\n",
    "- Population vs Sample\n",
    "\n",
    "# Part 2: Linear Correlations\n",
    "- Correlation between variables\n",
    "- Dispersion charts"
   ]
  },
  {
   "cell_type": "markdown",
   "id": "fe89d54c",
   "metadata": {},
   "source": [
    "Importing Libraries"
   ]
  },
  {
   "cell_type": "code",
   "execution_count": 2,
   "id": "431ac6fa0b81f35e",
   "metadata": {
    "ExecuteTime": {
     "end_time": "2025-09-25T11:09:07.932334Z",
     "start_time": "2025-09-25T11:09:07.172509Z"
    }
   },
   "outputs": [],
   "source": [
    "import pandas as pd\n",
    "import numpy as np\n",
    "import matplotlib.pyplot as plt"
   ]
  },
  {
   "cell_type": "markdown",
   "id": "7fc99c982a5d3b58",
   "metadata": {},
   "source": [
    "## Part 1 - Review for the next week test"
   ]
  },
  {
   "cell_type": "markdown",
   "id": "bdfc9ee7adcd5d70",
   "metadata": {},
   "source": [
    "### Exercise 1\n",
    "Create a DataFrame called `df_notas` with 50 rows, containing a `grade` column with random integer values **between 0 and 20**."
   ]
  },
  {
   "cell_type": "code",
   "execution_count": 6,
   "id": "initial_id",
   "metadata": {
    "ExecuteTime": {
     "end_time": "2025-09-25T11:09:38.703352Z",
     "start_time": "2025-09-25T11:09:38.671175Z"
    },
    "collapsed": true
   },
   "outputs": [
    {
     "name": "stdout",
     "output_type": "stream",
     "text": [
      "   grade\n",
      "0      6\n",
      "1     19\n",
      "2     14\n",
      "3     10\n",
      "4      7\n"
     ]
    }
   ],
   "source": [
    "np.random.seed(42)\n",
    "df_notas = pd.DataFrame({\n",
    "    \"grade\": np.random.randint(0, 21, size=50)  # upper bound é exclusivo\n",
    "})\n",
    "\n",
    "print(df_notas.head()) "
   ]
  },
  {
   "cell_type": "markdown",
   "id": "1d0879714886b751",
   "metadata": {},
   "source": [
    "### Exercise 2\n",
    "Add to DataFrame `df_notas` A column called `status` that classifies each student as `Pass` if the **grade is > = 10** or `Fail` otherwise. Try to do this without using loops with `np.where`."
   ]
  },
  {
   "cell_type": "code",
   "execution_count": 7,
   "id": "8064e1a0f21dc5ff",
   "metadata": {
    "ExecuteTime": {
     "end_time": "2025-09-25T11:10:16.245286Z",
     "start_time": "2025-09-25T11:10:16.229495Z"
    }
   },
   "outputs": [],
   "source": [
    "df_notas[\"status\"] = np.where(df_notas[\"grade\"] >= 10, \"Pass\", \"Fail\")"
   ]
  },
  {
   "cell_type": "markdown",
   "id": "851935f14a7f17a1",
   "metadata": {},
   "source": [
    "### Exercise 3\n",
    "Calculate the average, median and quartis (q1, q2, q3) of the grades."
   ]
  },
  {
   "cell_type": "code",
   "execution_count": 9,
   "id": "925167b2b0652689",
   "metadata": {
    "ExecuteTime": {
     "end_time": "2025-09-25T11:13:19.671063Z",
     "start_time": "2025-09-25T11:13:19.664653Z"
    }
   },
   "outputs": [
    {
     "name": "stdout",
     "output_type": "stream",
     "text": [
      "Média (mean): 10.96\n",
      "Mediana: 11.0\n",
      "Q1: 6.0\n",
      "Q2 (median): 11.0\n",
      "Q3: 17.0\n"
     ]
    }
   ],
   "source": [
    "# Média\n",
    "mean = df_notas[\"grade\"].mean()\n",
    "\n",
    "# Mediana\n",
    "median = df_notas[\"grade\"].median()\n",
    "\n",
    "# Quartis\n",
    "q1 = df_notas[\"grade\"].quantile(0.25)\n",
    "q2 = df_notas[\"grade\"].quantile(0.50)  # igual à mediana\n",
    "q3 = df_notas[\"grade\"].quantile(0.75)\n",
    "\n",
    "print(\"Média (mean):\", mean)\n",
    "print(\"Mediana:\", median)\n",
    "print(\"Q1:\", q1)\n",
    "print(\"Q2 (median):\", q2)\n",
    "print(\"Q3:\", q3)\n"
   ]
  },
  {
   "cell_type": "markdown",
   "id": "eaa047903cc7509",
   "metadata": {},
   "source": [
    "### Exercise 4\n",
    "Create a histogram of grades with 10 bins."
   ]
  },
  {
   "cell_type": "code",
   "execution_count": 10,
   "id": "82e1fbf4345ca242",
   "metadata": {
    "ExecuteTime": {
     "end_time": "2025-09-25T11:13:47.766147Z",
     "start_time": "2025-09-25T11:13:47.672261Z"
    }
   },
   "outputs": [
    {
     "data": {
      "image/png": "[encoded data removed]",
      "text/plain": [
       "<Figure size 640x480 with 1 Axes>"
      ]
     },
     "metadata": {},
     "output_type": "display_data"
    }
   ],
   "source": [
    "import matplotlib.pyplot as plt\n",
    "\n",
    "# cria o histograma\n",
    "plt.hist(df_notas[\"grade\"], bins=10, edgecolor=\"black\")\n",
    "\n",
    "# títulos e labels\n",
    "plt.title(\"Histogram of Grades\")\n",
    "plt.xlabel(\"Grade\")\n",
    "plt.ylabel(\"Frequency\")\n",
    "\n",
    "# mostra o gráfico\n",
    "plt.show()\n"
   ]
  },
  {
   "cell_type": "markdown",
   "id": "299db955671829c",
   "metadata": {},
   "source": [
    "### Exercise 5\n",
    "Create a grades boxplot to analyze the distribution."
   ]
  },
  {
   "cell_type": "code",
   "execution_count": null,
   "id": "935ca4af188ca206",
   "metadata": {
    "ExecuteTime": {
     "end_time": "2025-09-25T11:14:21.033461Z",
     "start_time": "2025-09-25T11:14:20.971935Z"
    }
   },
   "outputs": [],
   "source": []
  },
  {
   "cell_type": "markdown",
   "id": "f78be4614ddc9e10",
   "metadata": {},
   "source": [
    "### Exercise 6\n",
    "Create a DataFrame `df_salarios` with 100 random salaries between 1200 and 8000."
   ]
  },
  {
   "cell_type": "code",
   "execution_count": null,
   "id": "7b993a0a2388787a",
   "metadata": {
    "ExecuteTime": {
     "end_time": "2025-09-25T11:15:01.312563Z",
     "start_time": "2025-09-25T11:15:01.293817Z"
    }
   },
   "outputs": [],
   "source": [
    "np.random.seed(42)\n"
   ]
  },
  {
   "cell_type": "markdown",
   "id": "fa2512bda05376e3",
   "metadata": {},
   "source": [
    "### Exercise 7\n",
    "Add to DataFrame `df_salarios` a `salary_range` column that classifies each salary in:\n",
    "`Low` (<Q1), `Medium` (between Q1 and Q3) and `High` (> Q3)."
   ]
  },
  {
   "cell_type": "code",
   "execution_count": null,
   "id": "3367b0fcf48fa77c",
   "metadata": {
    "ExecuteTime": {
     "end_time": "2025-09-25T11:15:47.149366Z",
     "start_time": "2025-09-25T11:15:47.133143Z"
    }
   },
   "outputs": [
    {
     "data": {
      "text/html": [
       "<div>\n",
       "<style scoped>\n",
       "    .dataframe tbody tr th:only-of-type {\n",
       "        vertical-align: middle;\n",
       "    }\n",
       "\n",
       "    .dataframe tbody tr th {\n",
       "        vertical-align: top;\n",
       "    }\n",
       "\n",
       "    .dataframe thead th {\n",
       "        text-align: right;\n",
       "    }\n",
       "</style>\n",
       "<table border=\"1\" class=\"dataframe\">\n",
       "  <thead>\n",
       "    <tr style=\"text-align: right;\">\n",
       "      <th></th>\n",
       "      <th>salario</th>\n",
       "      <th>faixa</th>\n",
       "    </tr>\n",
       "  </thead>\n",
       "  <tbody>\n",
       "    <tr>\n",
       "      <th>0</th>\n",
       "      <td>2060</td>\n",
       "      <td>baixo</td>\n",
       "    </tr>\n",
       "    <tr>\n",
       "      <th>1</th>\n",
       "      <td>6590</td>\n",
       "      <td>alto</td>\n",
       "    </tr>\n",
       "    <tr>\n",
       "      <th>2</th>\n",
       "      <td>6426</td>\n",
       "      <td>alto</td>\n",
       "    </tr>\n",
       "    <tr>\n",
       "      <th>3</th>\n",
       "      <td>6391</td>\n",
       "      <td>alto</td>\n",
       "    </tr>\n",
       "    <tr>\n",
       "      <th>4</th>\n",
       "      <td>4972</td>\n",
       "      <td>médio</td>\n",
       "    </tr>\n",
       "  </tbody>\n",
       "</table>\n",
       "</div>"
      ],
      "text/plain": [
       "   salario  faixa\n",
       "0     2060  baixo\n",
       "1     6590   alto\n",
       "2     6426   alto\n",
       "3     6391   alto\n",
       "4     4972  médio"
      ]
     },
     "execution_count": 3,
     "metadata": {},
     "output_type": "execute_result"
    }
   ],
   "source": [
    "# Calculate Quartiles\n",
    "\n",
    "\n",
    "# Create Function to Classify Salaries\n",
    "\n",
    "\n",
    "# Apply Function to Create New Column\n",
    "\n"
   ]
  },
  {
   "cell_type": "markdown",
   "id": "8b56f1f248774e0b",
   "metadata": {},
   "source": [
    "### Exercise 8\n",
    "Create a histogram and a boxplot of salaries."
   ]
  },
  {
   "cell_type": "code",
   "execution_count": null,
   "id": "f5d59d5ed8c60e21",
   "metadata": {
    "ExecuteTime": {
     "end_time": "2025-09-25T11:16:16.437664Z",
     "start_time": "2025-09-25T11:16:16.308408Z"
    }
   },
   "outputs": [
    {
     "data": {
      "image/png": "[encoded data removed]",
      "text/plain": [
       "<Figure size 640x480 with 1 Axes>"
      ]
     },
     "metadata": {},
     "output_type": "display_data"
    },
    {
     "data": {
      "image/png": "[encoded data removed]",
      "text/plain": [
       "<Figure size 640x480 with 1 Axes>"
      ]
     },
     "metadata": {},
     "output_type": "display_data"
    }
   ],
   "source": []
  },
  {
   "cell_type": "markdown",
   "id": "6dd87bd9dfa6a8cb",
   "metadata": {},
   "source": [
    "### Exercise 9\n",
    "Create two DataFrames: `df_clients` (with `client_id` and `name`) and` df_purchases` (with `client_id` and `value` of purchase). Finally, merge the DataFrames (`pd.merge`)."
   ]
  },
  {
   "cell_type": "code",
   "execution_count": null,
   "id": "ccad6385a355a600",
   "metadata": {
    "ExecuteTime": {
     "end_time": "2025-09-25T11:22:20.240994Z",
     "start_time": "2025-09-25T11:22:20.217119Z"
    }
   },
   "outputs": [
    {
     "data": {
      "text/html": [
       "<div>\n",
       "<style scoped>\n",
       "    .dataframe tbody tr th:only-of-type {\n",
       "        vertical-align: middle;\n",
       "    }\n",
       "\n",
       "    .dataframe tbody tr th {\n",
       "        vertical-align: top;\n",
       "    }\n",
       "\n",
       "    .dataframe thead th {\n",
       "        text-align: right;\n",
       "    }\n",
       "</style>\n",
       "<table border=\"1\" class=\"dataframe\">\n",
       "  <thead>\n",
       "    <tr style=\"text-align: right;\">\n",
       "      <th></th>\n",
       "      <th>id_cliente</th>\n",
       "      <th>nome</th>\n",
       "      <th>valor</th>\n",
       "    </tr>\n",
       "  </thead>\n",
       "  <tbody>\n",
       "    <tr>\n",
       "      <th>0</th>\n",
       "      <td>1</td>\n",
       "      <td>Ana</td>\n",
       "      <td>200</td>\n",
       "    </tr>\n",
       "    <tr>\n",
       "      <th>1</th>\n",
       "      <td>1</td>\n",
       "      <td>Ana</td>\n",
       "      <td>300</td>\n",
       "    </tr>\n",
       "    <tr>\n",
       "      <th>2</th>\n",
       "      <td>2</td>\n",
       "      <td>Bruno</td>\n",
       "      <td>150</td>\n",
       "    </tr>\n",
       "    <tr>\n",
       "      <th>3</th>\n",
       "      <td>2</td>\n",
       "      <td>Bruno</td>\n",
       "      <td>100</td>\n",
       "    </tr>\n",
       "    <tr>\n",
       "      <th>4</th>\n",
       "      <td>3</td>\n",
       "      <td>Carla</td>\n",
       "      <td>400</td>\n",
       "    </tr>\n",
       "    <tr>\n",
       "      <th>5</th>\n",
       "      <td>4</td>\n",
       "      <td>Diego</td>\n",
       "      <td>250</td>\n",
       "    </tr>\n",
       "  </tbody>\n",
       "</table>\n",
       "</div>"
      ],
      "text/plain": [
       "   id_cliente   nome  valor\n",
       "0           1    Ana    200\n",
       "1           1    Ana    300\n",
       "2           2  Bruno    150\n",
       "3           2  Bruno    100\n",
       "4           3  Carla    400\n",
       "5           4  Diego    250"
      ]
     },
     "execution_count": 5,
     "metadata": {},
     "output_type": "execute_result"
    }
   ],
   "source": [
    "\n",
    "\n"
   ]
  },
  {
   "cell_type": "markdown",
   "id": "d82f151642dc1474",
   "metadata": {},
   "source": [
    "### Exercise 10\n",
    "In the resulting DataFrame of the merge, create a new column called `with_discount` Apply **10% discount** to the purchase value."
   ]
  },
  {
   "cell_type": "code",
   "execution_count": null,
   "id": "77d3e2975a7dc6d5",
   "metadata": {
    "ExecuteTime": {
     "end_time": "2025-09-25T11:23:05.796640Z",
     "start_time": "2025-09-25T11:23:05.776841Z"
    }
   },
   "outputs": [
    {
     "data": {
      "text/html": [
       "<div>\n",
       "<style scoped>\n",
       "    .dataframe tbody tr th:only-of-type {\n",
       "        vertical-align: middle;\n",
       "    }\n",
       "\n",
       "    .dataframe tbody tr th {\n",
       "        vertical-align: top;\n",
       "    }\n",
       "\n",
       "    .dataframe thead th {\n",
       "        text-align: right;\n",
       "    }\n",
       "</style>\n",
       "<table border=\"1\" class=\"dataframe\">\n",
       "  <thead>\n",
       "    <tr style=\"text-align: right;\">\n",
       "      <th></th>\n",
       "      <th>id_cliente</th>\n",
       "      <th>nome</th>\n",
       "      <th>valor</th>\n",
       "      <th>valor_com_desconto</th>\n",
       "    </tr>\n",
       "  </thead>\n",
       "  <tbody>\n",
       "    <tr>\n",
       "      <th>0</th>\n",
       "      <td>1</td>\n",
       "      <td>Ana</td>\n",
       "      <td>200</td>\n",
       "      <td>180.0</td>\n",
       "    </tr>\n",
       "    <tr>\n",
       "      <th>1</th>\n",
       "      <td>1</td>\n",
       "      <td>Ana</td>\n",
       "      <td>300</td>\n",
       "      <td>270.0</td>\n",
       "    </tr>\n",
       "    <tr>\n",
       "      <th>2</th>\n",
       "      <td>2</td>\n",
       "      <td>Bruno</td>\n",
       "      <td>150</td>\n",
       "      <td>135.0</td>\n",
       "    </tr>\n",
       "    <tr>\n",
       "      <th>3</th>\n",
       "      <td>2</td>\n",
       "      <td>Bruno</td>\n",
       "      <td>100</td>\n",
       "      <td>90.0</td>\n",
       "    </tr>\n",
       "    <tr>\n",
       "      <th>4</th>\n",
       "      <td>3</td>\n",
       "      <td>Carla</td>\n",
       "      <td>400</td>\n",
       "      <td>360.0</td>\n",
       "    </tr>\n",
       "    <tr>\n",
       "      <th>5</th>\n",
       "      <td>4</td>\n",
       "      <td>Diego</td>\n",
       "      <td>250</td>\n",
       "      <td>225.0</td>\n",
       "    </tr>\n",
       "  </tbody>\n",
       "</table>\n",
       "</div>"
      ],
      "text/plain": [
       "   id_cliente   nome  valor  valor_com_desconto\n",
       "0           1    Ana    200               180.0\n",
       "1           1    Ana    300               270.0\n",
       "2           2  Bruno    150               135.0\n",
       "3           2  Bruno    100                90.0\n",
       "4           3  Carla    400               360.0\n",
       "5           4  Diego    250               225.0"
      ]
     },
     "execution_count": 6,
     "metadata": {},
     "output_type": "execute_result"
    }
   ],
   "source": []
  },
  {
   "cell_type": "markdown",
   "id": "e782ca69dcdda5c4",
   "metadata": {},
   "source": [
    "## Part 2 - Linear Correlations"
   ]
  },
  {
   "cell_type": "code",
   "execution_count": 22,
   "id": "84bbfb1daa99d09d",
   "metadata": {
    "ExecuteTime": {
     "end_time": "2025-09-25T11:32:35.556487Z",
     "start_time": "2025-09-25T11:32:21.208348Z"
    }
   },
   "outputs": [],
   "source": [
    "import pandas as pd\n",
    "import numpy as np\n",
    "import matplotlib.pyplot as plt\n",
    "import seaborn as sns\n",
    "from scipy import stats"
   ]
  },
  {
   "cell_type": "markdown",
   "id": "2694ae0d36e59d87",
   "metadata": {},
   "source": [
    "### Exercise 1\n",
    "Create two x and y vectors with 100 data points (`y = 2x + noise`). Scatter plot the data."
   ]
  },
  {
   "cell_type": "code",
   "execution_count": 23,
   "id": "de3449cc344ad975",
   "metadata": {
    "ExecuteTime": {
     "end_time": "2025-09-25T11:32:39.840114Z",
     "start_time": "2025-09-25T11:32:39.757119Z"
    }
   },
   "outputs": [
    {
     "data": {
      "image/png": "[encoded data removed]",
      "text/plain": [
       "<Figure size 640x480 with 1 Axes>"
      ]
     },
     "metadata": {},
     "output_type": "display_data"
    }
   ],
   "source": [
    "x = np.linspace(0, 50, 100)\n",
    "y = 2*x + np.random.normal(0, 10, 100)\n",
    "plt.scatter(x, y)\n",
    "plt.title(\"Exercício 1 - Scatter Plot\")\n",
    "plt.show()"
   ]
  },
  {
   "cell_type": "markdown",
   "id": "fa5665b41c9d44e3",
   "metadata": {},
   "source": [
    "### Exercise 2\n",
    "Use seaborn.Pairplot to view relationships between 4 random variables."
   ]
  },
  {
   "cell_type": "code",
   "execution_count": null,
   "id": "b8e90c05da0bd0a9",
   "metadata": {
    "ExecuteTime": {
     "end_time": "2025-09-25T11:36:28.584518Z",
     "start_time": "2025-09-25T11:36:27.178210Z"
    }
   },
   "outputs": [],
   "source": [
    "df = pd.DataFrame(np.random.randn(100, 4), columns=list(\"ABCD\"))\n",
    "# Create A Linear Relation Between A And B\n",
    "df[\"B\"] = df[\"A\"] * 2 + np.random.normal(0, 0.5, 100)\n",
    "# Create Linear Relation Between C and D\n",
    "df[\"D\"] = df[\"C\"] * -3 + np.random.normal(0, 0.5, 100)\n",
    "sns.pairplot(df)"
   ]
  },
  {
   "cell_type": "markdown",
   "id": "91fc9639f5b1a6f3",
   "metadata": {},
   "source": [
    "### Exercise 3\n",
    "Generate a linear association (`y = 3x + noise`) and **scatter plott with trend line**."
   ]
  },
  {
   "cell_type": "code",
   "execution_count": null,
   "id": "1768cd8ef3e6cd3",
   "metadata": {
    "ExecuteTime": {
     "end_time": "2025-09-25T11:37:04.230492Z",
     "start_time": "2025-09-25T11:37:04.134834Z"
    }
   },
   "outputs": [],
   "source": [
    "x = np.linspace(0, 20, 100)\n",
    "y = 3*x + np.random.normal(0, 5, 100)\n",
    "sns.regplot(x=x, y=y, ci=None)\n",
    "plt.title(\"Exercício 3 - Associação Linear\")\n",
    "plt.show()"
   ]
  },
  {
   "cell_type": "markdown",
   "id": "5af75890bad3caf9",
   "metadata": {},
   "source": [
    "### Exercise 4\n",
    "Generate a nonlinear association (`y = x^2 + noise`) and a scatter plot."
   ]
  },
  {
   "cell_type": "code",
   "execution_count": null,
   "id": "d1d3e70cee4727f6",
   "metadata": {
    "ExecuteTime": {
     "end_time": "2025-09-25T11:37:29.551297Z",
     "start_time": "2025-09-25T11:37:29.465393Z"
    }
   },
   "outputs": [],
   "source": [
    "x = np.linspace(-10, 10, 100)\n",
    "y = x**2 + np.random.normal(0, 10, 100)\n",
    "plt.scatter(x, y)\n",
    "plt.title(\"Exercício 4 - Associação Não Linear\")\n",
    "plt.show()"
   ]
  },
  {
   "cell_type": "markdown",
   "id": "a58c833978a1ef58",
   "metadata": {},
   "source": [
    "### Exercise 5\n",
    "Calculate **Pearson's correlation** between x and y of **Exercise 3**. Explain the result."
   ]
  },
  {
   "cell_type": "code",
   "execution_count": null,
   "id": "2dda503e3a5dfa44",
   "metadata": {
    "ExecuteTime": {
     "end_time": "2025-09-25T11:38:36.150732Z",
     "start_time": "2025-09-25T11:38:36.146965Z"
    }
   },
   "outputs": [
    {
     "name": "stdout",
     "output_type": "stream",
     "text": [
      "PearsonRResult(statistic=np.float64(0.018841383724037507), pvalue=np.float64(0.852396525931796))\n"
     ]
    }
   ],
   "source": [
    "pearson_corr = stats.pearsonr(x, y)\n",
    "print(pearson_corr)\n",
    "\n"
   ]
  },
  {
   "cell_type": "markdown",
   "id": "713915ccd42812b5",
   "metadata": {},
   "source": [
    "### Exercise 6\n",
    "Calculate the `Spearman Correlation` between X and Y of `Exercise 4`. Explain the result."
   ]
  },
  {
   "cell_type": "code",
   "execution_count": null,
   "id": "8c006825ebcf8a43",
   "metadata": {
    "ExecuteTime": {
     "end_time": "2025-09-25T11:38:23.342979Z",
     "start_time": "2025-09-25T11:38:23.332295Z"
    }
   },
   "outputs": [
    {
     "data": {
      "text/plain": [
       "SignificanceResult(statistic=np.float64(0.020366036603660362), pvalue=np.float64(0.8406041996840732))"
      ]
     },
     "execution_count": 35,
     "metadata": {},
     "output_type": "execute_result"
    }
   ],
   "source": [
    "spearman_corr = stats.spearmanr(x, y)\n",
    "spearman_corr\n"
   ]
  },
  {
   "cell_type": "markdown",
   "id": "c83325fe80fe33b5",
   "metadata": {},
   "source": [
    "### Exercise 7\n",
    "Compare **Pearson** and **Spearman** in quadratic data."
   ]
  },
  {
   "cell_type": "code",
   "execution_count": null,
   "id": "4a8526a75e3d2963",
   "metadata": {
    "ExecuteTime": {
     "end_time": "2025-09-25T11:39:57.185407Z",
     "start_time": "2025-09-25T11:39:57.161687Z"
    }
   },
   "outputs": [
    {
     "data": {
      "text/plain": [
       "(PearsonRResult(statistic=np.float64(-3.469446951953614e-17), pvalue=np.float64(1.0)),\n",
       " SignificanceResult(statistic=np.float64(-0.002646479021386217), pvalue=np.float64(0.9791519704231377)))"
      ]
     },
     "execution_count": 37,
     "metadata": {},
     "output_type": "execute_result"
    }
   ],
   "source": [
    "x = np.linspace(-5, 5, 100)\n",
    "y = x**2\n",
    "pearson = stats.pearsonr(x, y)\n",
    "spearman = stats.spearmanr(x, y)\n",
    "pearson, spearman\n",
    "# Explain The Results\n",
    "# In Quadratic Data, Pearson Correlation may be Low or Zero Because It measures Linear Relationships, While Spearman Correlation Captures The Monotonic Relationship, Resulting in A Higher Value."
   ]
  },
  {
   "cell_type": "markdown",
   "id": "b92f3aed1031286e",
   "metadata": {},
   "source": [
    "### Exercise 8\n",
    "Simulate data with **weak correlation (high noise)**. Show scatter plot."
   ]
  },
  {
   "cell_type": "code",
   "execution_count": null,
   "id": "c8ba4fc713102fca",
   "metadata": {
    "ExecuteTime": {
     "end_time": "2025-09-25T11:40:34.428774Z",
     "start_time": "2025-09-25T11:40:34.330508Z"
    }
   },
   "outputs": [],
   "source": [
    "x = np.linspace(0, 50, 100)\n",
    "y = 0.5*x + np.random.normal(0, 30, 100)\n",
    "plt.scatter(x, y)\n",
    "plt.title(\"Exercício 8 - Correlação Fraca\")\n",
    "plt.show()"
   ]
  },
  {
   "cell_type": "markdown",
   "id": "bc8c8c9703726790",
   "metadata": {},
   "source": [
    "### Exercise 9\n",
    "Simulate data with **moderate correlation**."
   ]
  },
  {
   "cell_type": "code",
   "execution_count": null,
   "id": "5fb1006782e184b6",
   "metadata": {
    "ExecuteTime": {
     "end_time": "2025-09-25T11:41:20.781235Z",
     "start_time": "2025-09-25T11:41:20.700219Z"
    }
   },
   "outputs": [],
   "source": [
    "x = np.linspace(0, 50, 100)\n",
    "y = 0.5*x + np.random.normal(0, 10, 100)\n",
    "plt.scatter(x, y)\n",
    "plt.title(\"Exercício 9 - Correlação Moderada\")\n",
    "plt.show()"
   ]
  },
  {
   "cell_type": "markdown",
   "id": "9e62d9adf3f64e64",
   "metadata": {},
   "source": [
    "### Exercise 10\n",
    "Simulate data with **strong correlation**."
   ]
  },
  {
   "cell_type": "code",
   "execution_count": null,
   "id": "c71005629e8c4e03",
   "metadata": {
    "ExecuteTime": {
     "end_time": "2025-09-25T11:42:02.843628Z",
     "start_time": "2025-09-25T11:42:02.762312Z"
    }
   },
   "outputs": [],
   "source": [
    "x = np.linspace(0, 50, 100)\n",
    "y = 0.5*x + np.random.normal(0, 2, 100)\n",
    "plt.scatter(x, y)"
   ]
  },
  {
   "cell_type": "markdown",
   "id": "2d31d61d1c60f94d",
   "metadata": {},
   "source": [
    "### Exercise 11\n",
    "Test significance of **Pearson's correlation** in data with 20 data points."
   ]
  },
  {
   "cell_type": "code",
   "execution_count": 41,
   "id": "7c6acf44dd20093d",
   "metadata": {
    "ExecuteTime": {
     "end_time": "2025-09-25T11:43:31.487423Z",
     "start_time": "2025-09-25T11:43:31.472502Z"
    }
   },
   "outputs": [
    {
     "data": {
      "text/plain": [
       "PearsonRResult(statistic=np.float64(0.7322570286716843), pvalue=np.float64(0.00024174338419456353))"
      ]
     },
     "execution_count": 41,
     "metadata": {},
     "output_type": "execute_result"
    }
   ],
   "source": [
    "x = np.linspace(0, 10, 20)\n",
    "y = 2*x + np.random.normal(0, 5, 20)\n",
    "stats.pearsonr(x, y)"
   ]
  },
  {
   "cell_type": "markdown",
   "id": "4b79c827b928e776",
   "metadata": {},
   "source": [
    "### Exercise 12\n",
    "Test significance of **Pearson's correlation** in data with 200 data points."
   ]
  },
  {
   "cell_type": "code",
   "execution_count": 42,
   "id": "4423eb5fc0399d95",
   "metadata": {
    "ExecuteTime": {
     "end_time": "2025-09-25T11:43:59.416517Z",
     "start_time": "2025-09-25T11:43:59.404633Z"
    }
   },
   "outputs": [
    {
     "data": {
      "text/plain": [
       "PearsonRResult(statistic=np.float64(0.14821789069922398), pvalue=np.float64(0.03620994559168788))"
      ]
     },
     "execution_count": 42,
     "metadata": {},
     "output_type": "execute_result"
    }
   ],
   "source": [
    "x = np.linspace(0, 10, 200)\n",
    "y = 0.2*x + np.random.normal(0, 5, 200)\n",
    "stats.pearsonr(x, y)"
   ]
  },
  {
   "cell_type": "markdown",
   "id": "e2ce450dd3e21425",
   "metadata": {},
   "source": [
    "### Exercise 13\n",
    "Create scatter plot with categories."
   ]
  },
  {
   "cell_type": "code",
   "execution_count": null,
   "id": "65a63db1fccaeea1",
   "metadata": {
    "ExecuteTime": {
     "end_time": "2025-09-25T11:44:20.489990Z",
     "start_time": "2025-09-25T11:44:20.375844Z"
    }
   },
   "outputs": [],
   "source": [
    "df = pd.DataFrame({\n",
    "    \"x\": np.random.randn(100),\n",
    "    \"y\": np.random.randn(100),\n",
    "    \"grupo\": np.random.choice([\"A\", \"B\"], 100)\n",
    "})\n"
   ]
  },
  {
   "cell_type": "markdown",
   "id": "e1bb1501f10687e5",
   "metadata": {},
   "source": [
    "### Exercise 14\n",
    "Show correlation matrix with Seabron Heatmap."
   ]
  },
  {
   "cell_type": "code",
   "execution_count": null,
   "id": "322f3a6d11ca6c62",
   "metadata": {
    "ExecuteTime": {
     "end_time": "2025-09-25T11:44:58.722940Z",
     "start_time": "2025-09-25T11:44:58.572354Z"
    }
   },
   "outputs": [],
   "source": [
    "df = pd.DataFrame(np.random.randn(100, 5), columns=list(\"ABCDE\"))\n"
   ]
  },
  {
   "cell_type": "markdown",
   "id": "a49db6a3f278eb6d",
   "metadata": {},
   "source": [
    "### Exercise 15\n",
    "Check non-linear correlation."
   ]
  },
  {
   "cell_type": "code",
   "execution_count": null,
   "id": "18ff1a4bee8938b1",
   "metadata": {
    "ExecuteTime": {
     "end_time": "2025-09-25T11:45:35.073016Z",
     "start_time": "2025-09-25T11:45:35.027701Z"
    }
   },
   "outputs": [
    {
     "data": {
      "text/plain": [
       "(PearsonRResult(statistic=np.float64(-0.07589466694797184), pvalue=np.float64(0.4529607482441908)),\n",
       " SignificanceResult(statistic=np.float64(-0.07504350435043504), pvalue=np.float64(0.45805859611033717)))"
      ]
     },
     "execution_count": 45,
     "metadata": {},
     "output_type": "execute_result"
    }
   ],
   "source": []
  },
  {
   "cell_type": "markdown",
   "id": "ac52517a9bd5fba8",
   "metadata": {},
   "source": [
    "### Exercise 16\n",
    "Based on what we have learned above, analyze the `Auto.csv` dataset and search for interesting correlations."
   ]
  },
  {
   "cell_type": "code",
   "execution_count": null,
   "id": "ed0af74dac3d7965",
   "metadata": {},
   "outputs": [],
   "source": []
  }
 ],
 "metadata": {
  "kernelspec": {
   "display_name": "Python 3",
   "language": "python",
   "name": "python3"
  },
  "language_info": {
   "codemirror_mode": {
    "name": "ipython",
    "version": 3
   },
   "file_extension": ".py",
   "mimetype": "text/x-python",
   "name": "python",
   "nbconvert_exporter": "python",
   "pygments_lexer": "ipython3",
   "version": "3.12.1"
  }
 },
 "nbformat": 4,
 "nbformat_minor": 5
}
