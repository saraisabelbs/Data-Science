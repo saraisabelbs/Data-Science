{
 "cells": [
  {
   "cell_type": "markdown",
   "id": "bfff3a0f",
   "metadata": {},
   "source": [
    "# Week 6 — Categorical Data\n",
    "\n",
    "In this notebook you'll learn to work with **categorical data**:\n",
    "- **Contingency tables** (`pd.crosstab`), row/column proportions\n",
    "- **Grouped summaries** (`.groupby()` + `agg`)\n",
    "- **Proportions and percentages**\n",
    "- **Chi-square test** intuition for independence\n",
    "- **Practical**: correlation-style matrices and heatmaps for **categorical–categorical** relations (Cramér’s V)\n",
    "- Explore relations in categorical variables"
   ]
  },
  {
   "cell_type": "markdown",
   "id": "7bd05095",
   "metadata": {},
   "source": [
    "## Setup"
   ]
  },
  {
   "cell_type": "code",
   "execution_count": 1,
   "id": "4e30d62d",
   "metadata": {},
   "outputs": [
    {
     "data": {
      "text/html": [
       "<div>\n",
       "<style scoped>\n",
       "    .dataframe tbody tr th:only-of-type {\n",
       "        vertical-align: middle;\n",
       "    }\n",
       "\n",
       "    .dataframe tbody tr th {\n",
       "        vertical-align: top;\n",
       "    }\n",
       "\n",
       "    .dataframe thead th {\n",
       "        text-align: right;\n",
       "    }\n",
       "</style>\n",
       "<table border=\"1\" class=\"dataframe\">\n",
       "  <thead>\n",
       "    <tr style=\"text-align: right;\">\n",
       "      <th></th>\n",
       "      <th>survived</th>\n",
       "      <th>pclass</th>\n",
       "      <th>sex</th>\n",
       "      <th>age</th>\n",
       "      <th>sibsp</th>\n",
       "      <th>parch</th>\n",
       "      <th>fare</th>\n",
       "      <th>embarked</th>\n",
       "      <th>class</th>\n",
       "      <th>who</th>\n",
       "      <th>adult_male</th>\n",
       "      <th>deck</th>\n",
       "      <th>embark_town</th>\n",
       "      <th>alive</th>\n",
       "      <th>alone</th>\n",
       "    </tr>\n",
       "  </thead>\n",
       "  <tbody>\n",
       "    <tr>\n",
       "      <th>0</th>\n",
       "      <td>0</td>\n",
       "      <td>3</td>\n",
       "      <td>male</td>\n",
       "      <td>22.0</td>\n",
       "      <td>1</td>\n",
       "      <td>0</td>\n",
       "      <td>7.2500</td>\n",
       "      <td>S</td>\n",
       "      <td>Third</td>\n",
       "      <td>man</td>\n",
       "      <td>True</td>\n",
       "      <td>NaN</td>\n",
       "      <td>Southampton</td>\n",
       "      <td>no</td>\n",
       "      <td>False</td>\n",
       "    </tr>\n",
       "    <tr>\n",
       "      <th>1</th>\n",
       "      <td>1</td>\n",
       "      <td>1</td>\n",
       "      <td>female</td>\n",
       "      <td>38.0</td>\n",
       "      <td>1</td>\n",
       "      <td>0</td>\n",
       "      <td>71.2833</td>\n",
       "      <td>C</td>\n",
       "      <td>First</td>\n",
       "      <td>woman</td>\n",
       "      <td>False</td>\n",
       "      <td>C</td>\n",
       "      <td>Cherbourg</td>\n",
       "      <td>yes</td>\n",
       "      <td>False</td>\n",
       "    </tr>\n",
       "    <tr>\n",
       "      <th>2</th>\n",
       "      <td>1</td>\n",
       "      <td>3</td>\n",
       "      <td>female</td>\n",
       "      <td>26.0</td>\n",
       "      <td>0</td>\n",
       "      <td>0</td>\n",
       "      <td>7.9250</td>\n",
       "      <td>S</td>\n",
       "      <td>Third</td>\n",
       "      <td>woman</td>\n",
       "      <td>False</td>\n",
       "      <td>NaN</td>\n",
       "      <td>Southampton</td>\n",
       "      <td>yes</td>\n",
       "      <td>True</td>\n",
       "    </tr>\n",
       "    <tr>\n",
       "      <th>3</th>\n",
       "      <td>1</td>\n",
       "      <td>1</td>\n",
       "      <td>female</td>\n",
       "      <td>35.0</td>\n",
       "      <td>1</td>\n",
       "      <td>0</td>\n",
       "      <td>53.1000</td>\n",
       "      <td>S</td>\n",
       "      <td>First</td>\n",
       "      <td>woman</td>\n",
       "      <td>False</td>\n",
       "      <td>C</td>\n",
       "      <td>Southampton</td>\n",
       "      <td>yes</td>\n",
       "      <td>False</td>\n",
       "    </tr>\n",
       "    <tr>\n",
       "      <th>4</th>\n",
       "      <td>0</td>\n",
       "      <td>3</td>\n",
       "      <td>male</td>\n",
       "      <td>35.0</td>\n",
       "      <td>0</td>\n",
       "      <td>0</td>\n",
       "      <td>8.0500</td>\n",
       "      <td>S</td>\n",
       "      <td>Third</td>\n",
       "      <td>man</td>\n",
       "      <td>True</td>\n",
       "      <td>NaN</td>\n",
       "      <td>Southampton</td>\n",
       "      <td>no</td>\n",
       "      <td>True</td>\n",
       "    </tr>\n",
       "  </tbody>\n",
       "</table>\n",
       "</div>"
      ],
      "text/plain": [
       "   survived  pclass     sex   age  sibsp  parch     fare embarked  class  \\\n",
       "0         0       3    male  22.0      1      0   7.2500        S  Third   \n",
       "1         1       1  female  38.0      1      0  71.2833        C  First   \n",
       "2         1       3  female  26.0      0      0   7.9250        S  Third   \n",
       "3         1       1  female  35.0      1      0  53.1000        S  First   \n",
       "4         0       3    male  35.0      0      0   8.0500        S  Third   \n",
       "\n",
       "     who  adult_male deck  embark_town alive  alone  \n",
       "0    man        True  NaN  Southampton    no  False  \n",
       "1  woman       False    C    Cherbourg   yes  False  \n",
       "2  woman       False  NaN  Southampton   yes   True  \n",
       "3  woman       False    C  Southampton   yes  False  \n",
       "4    man        True  NaN  Southampton    no   True  "
      ]
     },
     "execution_count": 1,
     "metadata": {},
     "output_type": "execute_result"
    }
   ],
   "source": [
    "\n",
    "import numpy as np\n",
    "import pandas as pd\n",
    "import seaborn as sns\n",
    "import matplotlib.pyplot as plt\n",
    "from scipy.stats import chi2_contingency\n",
    "\n",
    "sns.set_theme(context=\"notebook\")\n",
    "\n",
    "titanic = sns.load_dataset(\"titanic\").dropna(subset=[\"sex\", \"class\", \"survived\"])\n",
    "tips = sns.load_dataset(\"tips\")\n",
    "\n",
    "titanic.head()\n"
   ]
  },
  {
   "cell_type": "markdown",
   "id": "6b30d1b2",
   "metadata": {},
   "source": [
    "## 1. Contingency Tables\n",
    "\n",
    "Used to summarize the relationship between two categorical variables. It displays the frequency distribution of the variables in a matrix format, allowing for easy comparison and analysis of their interactions.\n",
    "\n",
    "Build a contingency table of sex vs survived using pd.crosstab\n",
    "- Row proportions (normalize='index')\n",
    "- Column proportions (normalize='columns')"
   ]
  },
  {
   "cell_type": "markdown",
   "id": "8b967f68",
   "metadata": {},
   "source": [
    "> **Tips & Pitfalls**  \n",
    "> • Prefer **row-wise proportions** for fair comparisons.  \n",
    "> • Use **column-wise proportions** to see composition.  \n",
    "> • Avoid interpreting raw counts alone."
   ]
  },
  {
   "cell_type": "code",
   "execution_count": null,
   "id": "c49ecd86",
   "metadata": {},
   "outputs": [],
   "source": [
    "# Your code here\n"
   ]
  },
  {
   "cell_type": "markdown",
   "id": "3496cdbf",
   "metadata": {},
   "source": [
    "## 2. Grouped Summaries — `.groupby()`\n",
    "\n",
    "Groups data by one or more categorical variables\n",
    "Useful to apply aggregation functions to compute summary statistics for each group.\n",
    "\n",
    "Using tips, compute grouped summaries:\n",
    "\n",
    "- mean total_bill and tip by sex and smoker\n",
    "- tip rate = tip / total_bill -> group its mean"
   ]
  },
  {
   "cell_type": "markdown",
   "id": "9c56a35a",
   "metadata": {},
   "source": [
    "> **Tips & Pitfalls**  \n",
    "> • Always report **n** with group means.  \n",
    "> • Use **rates** (e.g., tip_rate) for fairness.  \n",
    "> • Label aggregations clearly."
   ]
  },
  {
   "cell_type": "code",
   "execution_count": null,
   "id": "b8cf24df",
   "metadata": {},
   "outputs": [],
   "source": [
    "# Your code here\n"
   ]
  },
  {
   "cell_type": "markdown",
   "id": "24d09949",
   "metadata": {},
   "source": [
    "## 3. Proportions and Percentages\n",
    "Crosstab of class vs survived -> percentages (row-wise). Plot stacked bar chart."
   ]
  },
  {
   "cell_type": "markdown",
   "id": "ec5b0c07",
   "metadata": {},
   "source": [
    "> **Tips & Pitfalls**  \n",
    "> • Convert counts to **percentages**.  \n",
    "> • **Stacked bars** show composition; order categories logically.  \n",
    "> • Consider adding exact labels."
   ]
  },
  {
   "cell_type": "code",
   "execution_count": null,
   "id": "b66f8fba",
   "metadata": {},
   "outputs": [],
   "source": [
    "# Your code here\n"
   ]
  },
  {
   "cell_type": "markdown",
   "id": "d82de362",
   "metadata": {},
   "source": [
    "## 4. Chi-square Intuition\n",
    "Chi'square is for independence between two categorical variables\n",
    "\n",
    "Test for independence on sex vs survived"
   ]
  },
  {
   "cell_type": "code",
   "execution_count": null,
   "id": "2d7c1d29",
   "metadata": {},
   "outputs": [],
   "source": [
    "# Your code here\n",
    "\n"
   ]
  },
  {
   "cell_type": "markdown",
   "id": "bede4b63",
   "metadata": {},
   "source": [
    "## 5. Practical — Cramér’s V Matrix (Categorical–Categorical)\n",
    "A measure of association between two categorical variables ranging from 0 to 1 (0 = no association, 1 = perfect association).\n",
    "\n",
    "It defines the strength of association between two categorical variables based on the chi-square statistic.\n",
    "Implement cramers_v and compute a heatmap over a set of categorical columns"
   ]
  },
  {
   "cell_type": "markdown",
   "id": "3947f708",
   "metadata": {},
   "source": [
    "> **Tips & Pitfalls**  \n",
    "> • **Cramér’s V** ∈ [0,1]; higher means stronger association.  \n",
    "> • Symmetric and table-size agnostic.  \n",
    "> • Heatmaps highlight strongest/weakest links."
   ]
  },
  {
   "cell_type": "code",
   "execution_count": null,
   "id": "4e9f8c1d",
   "metadata": {},
   "outputs": [],
   "source": [
    "# Your code here\n"
   ]
  },
  {
   "cell_type": "markdown",
   "id": "b613c66a",
   "metadata": {},
   "source": [
    "## 6. Explore Relations — Gender vs Outcome\n",
    "\n",
    "Survival rate by sex and class (pointplot) + short printed interpretation"
   ]
  },
  {
   "cell_type": "markdown",
   "id": "809800df",
   "metadata": {},
   "source": [
    "> **Tips & Pitfalls**  \n",
    "> • Compare **rates** (means of 0/1) rather than counts.  \n",
    "> • Add **CIs** to bar/point plots.  \n",
    "> • Watch for **confounding** (e.g., class × sex).\n",
    "\n",
    "Confounding is when an outside variable influences both variables being studied, potentially leading to misleading conclusions about their relationship. For example, in the Titanic dataset, class is a confounding variable when examining the relationship between gender and survival, as class affects both gender distribution and survival rates.\n",
    "\n",
    "To detect possible confounding:\n",
    "\n",
    "- Check whether the supposed “cause” and “effect” both correlate with a third variable.\n",
    "\n",
    "- Try to control for that variable (e.g., by stratifying or using grouped analysis).\n",
    "\n",
    "- In EDA, plotting within subgroups (e.g., survival rate by gender and class) helps reveal the true pattern."
   ]
  },
  {
   "cell_type": "code",
   "execution_count": null,
   "id": "196390df",
   "metadata": {},
   "outputs": [],
   "source": [
    "# Your code here\n",
    "\n",
    "# Compute the overall relationship between sex and survival\n",
    "overall = titanic.groupby(\"sex\")[\"survived\"].mean()\n",
    "print(\"Overall survival rate by sex:\")\n",
    "display(overall)\n",
    "\n",
    "# Check whether class distribution differs by sex\n",
    "class_dist = pd.crosstab(titanic[\"sex\"], titanic[\"class\"], normalize=\"index\")\n",
    "print(\"\\nPassenger class distribution by sex (%):\")\n",
    "display((class_dist * 100).round(1))\n",
    "\n",
    "# Compute survival within each sex and class crosstab\n",
    "grouped = titanic.groupby([\"sex\", \"class\"])[\"survived\"].mean().unstack()\n",
    "print(\"\\nSurvival rate by sex and class:\")\n",
    "display((grouped * 100).round(1))\n"
   ]
  },
  {
   "cell_type": "code",
   "execution_count": null,
   "id": "1e36d469",
   "metadata": {},
   "outputs": [
    {
     "data": {
      "image/png": "[encoded data removed]",
      "text/plain": [
       "<Figure size 640x480 with 1 Axes>"
      ]
     },
     "metadata": {},
     "output_type": "display_data"
    }
   ],
   "source": [
    "# Visualize the distribution pattern between sex, class, and survived\n",
    "sns.barplot(data=titanic, x=\"class\", y=\"survived\", hue=\"sex\")\n",
    "plt.title(\"Survival rate by class and sex\")\n",
    "plt.ylabel(\"Survival probability\")\n",
    "plt.ylim(0, 1)\n",
    "plt.show()"
   ]
  },
  {
   "cell_type": "markdown",
   "id": "b4e048be",
   "metadata": {},
   "source": [
    "- 1. Females consistently have higher survival rates across all classes.\n",
    "- 2. Class strongly affects survival for both sexes (1st > 2nd > 3rd).\n",
    "- 3. Because women were overrepresented in higher classes, the overall \"female advantage\" in survival is partly due to class.\n",
    "- 4. Class amplifies the observed gender–survival association."
   ]
  },
  {
   "cell_type": "markdown",
   "id": "aca59b35",
   "metadata": {},
   "source": [
    "\n",
    "# 7. Practice — Categorical Data Challenge\n",
    "\n",
    "**Your goal:** Apply *everything* learned so far about categorical data:\n",
    "- Contingency tables and proportions\n",
    "- Grouped summaries (`groupby`)\n",
    "- Percentages and fair comparisons\n",
    "- Chi-square test for independence\n",
    "- Categorical–categorical effect sizes (Cramér’s V)\n",
    "- Tell a brief data story based on your findings\n"
   ]
  },
  {
   "cell_type": "markdown",
   "id": "1ac09f92",
   "metadata": {},
   "source": [
    "\n",
    "### 7.1 Choose a dataset\n",
    "Pick **one** to work with:\n",
    "- `titanic` use `df = titanic.copy()`\n",
    "- `tips`    use `df = tips.copy()`\n"
   ]
  },
  {
   "cell_type": "code",
   "execution_count": null,
   "id": "c162d40a",
   "metadata": {},
   "outputs": [],
   "source": [
    "# Your code here\n"
   ]
  },
  {
   "cell_type": "markdown",
   "id": "7058d0ba",
   "metadata": {},
   "source": [
    "\n",
    "### 7.2 Contingency tables + row/column proportions\n",
    "- Build **two** contingency tables using `pd.crosstab` for two pairs of categorical variables.\n",
    "- For each, compute **row-wise** and **column-wise** proportions.\n"
   ]
  },
  {
   "cell_type": "code",
   "execution_count": null,
   "id": "230046a4",
   "metadata": {},
   "outputs": [],
   "source": [
    "# Your code here\n"
   ]
  },
  {
   "cell_type": "markdown",
   "id": "39672f95",
   "metadata": {},
   "source": [
    "\n",
    "### 7.3 Grouped summaries\n",
    "- Compute a grouped summary over **two categorical keys**, aggregating **at least two numeric targets** or one target with multiple aggregations.\n",
    "- If you chose `tips` for example, compute **tip rate** = `tip / total_bill` and compare across groups.\n"
   ]
  },
  {
   "cell_type": "code",
   "execution_count": null,
   "id": "607e46be",
   "metadata": {},
   "outputs": [],
   "source": [
    "# Your code here\n"
   ]
  },
  {
   "cell_type": "markdown",
   "id": "53c2879b",
   "metadata": {},
   "source": [
    "\n",
    "### 7.4 Percentages plot\n",
    "- Convert a crosstab into **percentages** (row-wise).  \n",
    "- Produce a **stacked bar** chart to compare across groups.\n"
   ]
  },
  {
   "cell_type": "code",
   "execution_count": null,
   "id": "4be5ae16",
   "metadata": {},
   "outputs": [],
   "source": [
    "# Your code here\n"
   ]
  },
  {
   "cell_type": "markdown",
   "id": "861a7b6d",
   "metadata": {},
   "source": [
    "\n",
    "### 7.5 Chi-square test\n",
    "- Test **independence** for one of your contingency tables.  \n",
    "- State whether you would reject the null at α=0.05.\n"
   ]
  },
  {
   "cell_type": "code",
   "execution_count": null,
   "id": "9eebc166",
   "metadata": {},
   "outputs": [],
   "source": [
    "# Your code here\n"
   ]
  },
  {
   "cell_type": "markdown",
   "id": "6e22e771",
   "metadata": {},
   "source": [
    "\n",
    "### 7.6 Cramér’s V matrix\n",
    "- Build a **Cramér’s V** matrix for **5–7 categorical columns** and visualize with a **heatmap**.\n",
    "- Briefly comment on the **strongest** and **weakest** associations.\n"
   ]
  },
  {
   "cell_type": "code",
   "execution_count": null,
   "id": "1deed63f",
   "metadata": {},
   "outputs": [],
   "source": [
    "# Your code here\n"
   ]
  },
  {
   "cell_type": "markdown",
   "id": "f14e1b87",
   "metadata": {},
   "source": [
    "\n",
    "### 7.7 Mini narrative (3–5 bullets)\n",
    "Summarize your findings in clear, concise bullets. Mention at least one **limitation**.\n"
   ]
  },
  {
   "cell_type": "markdown",
   "id": "354a93ef",
   "metadata": {},
   "source": [
    "\n",
    "**Your notes:**  \n",
    "- ...  \n",
    "- ...  \n",
    "- ...\n"
   ]
  },
  {
   "cell_type": "markdown",
   "id": "a70dd221",
   "metadata": {},
   "source": [
    "## Appendix — Quick Reference\n",
    "\n",
    "**Contingency tables**\n",
    "```\n",
    "pd.crosstab(df['A'], df['B'])\n",
    "pd.crosstab(df['A'], df['B'], normalize='index')    # row-wise\n",
    "pd.crosstab(df['A'], df['B'], normalize='columns')  # column-wise\n",
    "```\n",
    "\n",
    "**Grouped summaries**\n",
    "```\n",
    "df.groupby(['g1','g2']).agg(mean_val=('x','mean'), n=('x','size'))\n",
    "```\n",
    "\n",
    "**Chi-square & Cramér’s V**\n",
    "```\n",
    "from scipy.stats import chi2_contingency\n",
    "tbl = pd.crosstab(df['A'], df['B'])\n",
    "chi2, p, dof, expected = chi2_contingency(tbl)\n",
    "\n",
    "def cramers_v(x, y):\n",
    "    tbl = pd.crosstab(x, y)\n",
    "    chi2, p, dof, expected = chi2_contingency(tbl)\n",
    "    n = tbl.values.sum()\n",
    "    r, k = tbl.shape\n",
    "    return np.sqrt(chi2 / (n * (min(r-1, k-1))))\n",
    "```\n"
   ]
  }
 ],
 "metadata": {
  "kernelspec": {
   "display_name": "base",
   "language": "python",
   "name": "python3"
  },
  "language_info": {
   "codemirror_mode": {
    "name": "ipython",
    "version": 3
   },
   "file_extension": ".py",
   "mimetype": "text/x-python",
   "name": "python",
   "nbconvert_exporter": "python",
   "pygments_lexer": "ipython3",
   "version": "3.13.5"
  }
 },
 "nbformat": 4,
 "nbformat_minor": 5
}
